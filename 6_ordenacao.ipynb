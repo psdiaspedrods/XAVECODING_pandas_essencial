{
 "cells": [
  {
   "cell_type": "markdown",
   "id": "2a347483-211d-49fb-8321-13dc8dcffa14",
   "metadata": {},
   "source": [
    "# Transforming DataFrames"
   ]
  },
  {
   "cell_type": "code",
   "execution_count": 1,
   "id": "127dfdc9-ef5a-4a13-b1a7-d1409bd1b49e",
   "metadata": {},
   "outputs": [],
   "source": [
    "import pandas as pd"
   ]
  },
  {
   "cell_type": "markdown",
   "id": "6e35c626-645e-44b2-9dba-05770dd9242d",
   "metadata": {
    "jp-MarkdownHeadingCollapsed": true
   },
   "source": [
    "### Importando/Carregando o Dataset Para o Pandas\n"
   ]
  },
  {
   "cell_type": "code",
   "execution_count": 100,
   "id": "4c40f678-98d8-4220-8638-56879262e51f",
   "metadata": {},
   "outputs": [
    {
     "data": {
      "text/html": [
       "<div>\n",
       "<style scoped>\n",
       "    .dataframe tbody tr th:only-of-type {\n",
       "        vertical-align: middle;\n",
       "    }\n",
       "\n",
       "    .dataframe tbody tr th {\n",
       "        vertical-align: top;\n",
       "    }\n",
       "\n",
       "    .dataframe thead th {\n",
       "        text-align: right;\n",
       "    }\n",
       "</style>\n",
       "<table border=\"1\" class=\"dataframe\">\n",
       "  <thead>\n",
       "    <tr style=\"text-align: right;\">\n",
       "      <th></th>\n",
       "      <th>DATA INICIAL</th>\n",
       "      <th>DATA FINAL</th>\n",
       "      <th>REGIÃO</th>\n",
       "      <th>ESTADO</th>\n",
       "      <th>PRODUTO</th>\n",
       "      <th>NÚMERO DE POSTOS PESQUISADOS</th>\n",
       "      <th>UNIDADE DE MEDIDA</th>\n",
       "      <th>PREÇO MÉDIO REVENDA</th>\n",
       "      <th>DESVIO PADRÃO REVENDA</th>\n",
       "      <th>PREÇO MÍNIMO REVENDA</th>\n",
       "      <th>PREÇO MÁXIMO REVENDA</th>\n",
       "      <th>MARGEM MÉDIA REVENDA</th>\n",
       "      <th>COEF DE VARIAÇÃO REVENDA</th>\n",
       "      <th>PREÇO MÉDIO DISTRIBUIÇÃO</th>\n",
       "      <th>DESVIO PADRÃO DISTRIBUIÇÃO</th>\n",
       "      <th>PREÇO MÍNIMO DISTRIBUIÇÃO</th>\n",
       "      <th>PREÇO MÁXIMO DISTRIBUIÇÃO</th>\n",
       "      <th>COEF DE VARIAÇÃO DISTRIBUIÇÃO</th>\n",
       "    </tr>\n",
       "  </thead>\n",
       "  <tbody>\n",
       "    <tr>\n",
       "      <th>0</th>\n",
       "      <td>09/05/2004</td>\n",
       "      <td>15/05/2004</td>\n",
       "      <td>CENTRO OESTE</td>\n",
       "      <td>DISTRITO FEDERAL</td>\n",
       "      <td>ETANOL HIDRATADO</td>\n",
       "      <td>127</td>\n",
       "      <td>R$/l</td>\n",
       "      <td>1.288</td>\n",
       "      <td>0.016</td>\n",
       "      <td>1.190</td>\n",
       "      <td>1.350</td>\n",
       "      <td>0.463</td>\n",
       "      <td>0.012</td>\n",
       "      <td>0.825</td>\n",
       "      <td>0.11</td>\n",
       "      <td>0.4201</td>\n",
       "      <td>0.9666</td>\n",
       "      <td>0.133</td>\n",
       "    </tr>\n",
       "    <tr>\n",
       "      <th>1</th>\n",
       "      <td>09/05/2004</td>\n",
       "      <td>15/05/2004</td>\n",
       "      <td>CENTRO OESTE</td>\n",
       "      <td>GOIAS</td>\n",
       "      <td>ETANOL HIDRATADO</td>\n",
       "      <td>387</td>\n",
       "      <td>R$/l</td>\n",
       "      <td>1.162</td>\n",
       "      <td>0.114</td>\n",
       "      <td>0.890</td>\n",
       "      <td>1.449</td>\n",
       "      <td>0.399</td>\n",
       "      <td>0.098</td>\n",
       "      <td>0.763</td>\n",
       "      <td>0.088</td>\n",
       "      <td>0.5013</td>\n",
       "      <td>1.05</td>\n",
       "      <td>0.115</td>\n",
       "    </tr>\n",
       "    <tr>\n",
       "      <th>2</th>\n",
       "      <td>09/05/2004</td>\n",
       "      <td>15/05/2004</td>\n",
       "      <td>CENTRO OESTE</td>\n",
       "      <td>MATO GROSSO</td>\n",
       "      <td>ETANOL HIDRATADO</td>\n",
       "      <td>192</td>\n",
       "      <td>R$/l</td>\n",
       "      <td>1.389</td>\n",
       "      <td>0.097</td>\n",
       "      <td>1.180</td>\n",
       "      <td>1.760</td>\n",
       "      <td>0.419</td>\n",
       "      <td>0.070</td>\n",
       "      <td>0.97</td>\n",
       "      <td>0.095</td>\n",
       "      <td>0.5614</td>\n",
       "      <td>1.161</td>\n",
       "      <td>0.098</td>\n",
       "    </tr>\n",
       "    <tr>\n",
       "      <th>3</th>\n",
       "      <td>09/05/2004</td>\n",
       "      <td>15/05/2004</td>\n",
       "      <td>CENTRO OESTE</td>\n",
       "      <td>MATO GROSSO DO SUL</td>\n",
       "      <td>ETANOL HIDRATADO</td>\n",
       "      <td>162</td>\n",
       "      <td>R$/l</td>\n",
       "      <td>1.262</td>\n",
       "      <td>0.070</td>\n",
       "      <td>1.090</td>\n",
       "      <td>1.509</td>\n",
       "      <td>0.432</td>\n",
       "      <td>0.055</td>\n",
       "      <td>0.83</td>\n",
       "      <td>0.119</td>\n",
       "      <td>0.5991</td>\n",
       "      <td>1.22242</td>\n",
       "      <td>0.143</td>\n",
       "    </tr>\n",
       "    <tr>\n",
       "      <th>4</th>\n",
       "      <td>09/05/2004</td>\n",
       "      <td>15/05/2004</td>\n",
       "      <td>NORDESTE</td>\n",
       "      <td>ALAGOAS</td>\n",
       "      <td>ETANOL HIDRATADO</td>\n",
       "      <td>103</td>\n",
       "      <td>R$/l</td>\n",
       "      <td>1.181</td>\n",
       "      <td>0.078</td>\n",
       "      <td>1.050</td>\n",
       "      <td>1.400</td>\n",
       "      <td>0.24</td>\n",
       "      <td>0.066</td>\n",
       "      <td>0.941</td>\n",
       "      <td>0.077</td>\n",
       "      <td>0.7441</td>\n",
       "      <td>1.0317</td>\n",
       "      <td>0.082</td>\n",
       "    </tr>\n",
       "    <tr>\n",
       "      <th>5</th>\n",
       "      <td>09/05/2004</td>\n",
       "      <td>15/05/2004</td>\n",
       "      <td>NORDESTE</td>\n",
       "      <td>BAHIA</td>\n",
       "      <td>ETANOL HIDRATADO</td>\n",
       "      <td>408</td>\n",
       "      <td>R$/l</td>\n",
       "      <td>1.383</td>\n",
       "      <td>0.132</td>\n",
       "      <td>0.999</td>\n",
       "      <td>2.050</td>\n",
       "      <td>0.426</td>\n",
       "      <td>0.095</td>\n",
       "      <td>0.957</td>\n",
       "      <td>0.128</td>\n",
       "      <td>0.5686</td>\n",
       "      <td>1.35</td>\n",
       "      <td>0.134</td>\n",
       "    </tr>\n",
       "    <tr>\n",
       "      <th>6</th>\n",
       "      <td>09/05/2004</td>\n",
       "      <td>15/05/2004</td>\n",
       "      <td>NORDESTE</td>\n",
       "      <td>CEARA</td>\n",
       "      <td>ETANOL HIDRATADO</td>\n",
       "      <td>278</td>\n",
       "      <td>R$/l</td>\n",
       "      <td>1.453</td>\n",
       "      <td>0.218</td>\n",
       "      <td>1.030</td>\n",
       "      <td>1.950</td>\n",
       "      <td>0.353</td>\n",
       "      <td>0.150</td>\n",
       "      <td>1.1</td>\n",
       "      <td>0.068</td>\n",
       "      <td>0.7332</td>\n",
       "      <td>1.294</td>\n",
       "      <td>0.062</td>\n",
       "    </tr>\n",
       "    <tr>\n",
       "      <th>7</th>\n",
       "      <td>09/05/2004</td>\n",
       "      <td>15/05/2004</td>\n",
       "      <td>NORDESTE</td>\n",
       "      <td>MARANHAO</td>\n",
       "      <td>ETANOL HIDRATADO</td>\n",
       "      <td>105</td>\n",
       "      <td>R$/l</td>\n",
       "      <td>1.631</td>\n",
       "      <td>0.158</td>\n",
       "      <td>1.350</td>\n",
       "      <td>2.000</td>\n",
       "      <td>0.515</td>\n",
       "      <td>0.097</td>\n",
       "      <td>1.116</td>\n",
       "      <td>0.091</td>\n",
       "      <td>0.9923</td>\n",
       "      <td>1.36183</td>\n",
       "      <td>0.082</td>\n",
       "    </tr>\n",
       "    <tr>\n",
       "      <th>8</th>\n",
       "      <td>09/05/2004</td>\n",
       "      <td>15/05/2004</td>\n",
       "      <td>NORDESTE</td>\n",
       "      <td>PARAIBA</td>\n",
       "      <td>ETANOL HIDRATADO</td>\n",
       "      <td>125</td>\n",
       "      <td>R$/l</td>\n",
       "      <td>1.284</td>\n",
       "      <td>0.130</td>\n",
       "      <td>1.100</td>\n",
       "      <td>1.699</td>\n",
       "      <td>0.353</td>\n",
       "      <td>0.101</td>\n",
       "      <td>0.931</td>\n",
       "      <td>0.072</td>\n",
       "      <td>0.7577</td>\n",
       "      <td>1.2972</td>\n",
       "      <td>0.077</td>\n",
       "    </tr>\n",
       "    <tr>\n",
       "      <th>9</th>\n",
       "      <td>09/05/2004</td>\n",
       "      <td>15/05/2004</td>\n",
       "      <td>NORDESTE</td>\n",
       "      <td>PERNAMBUCO</td>\n",
       "      <td>ETANOL HIDRATADO</td>\n",
       "      <td>423</td>\n",
       "      <td>R$/l</td>\n",
       "      <td>1.224</td>\n",
       "      <td>0.141</td>\n",
       "      <td>0.989</td>\n",
       "      <td>1.700</td>\n",
       "      <td>0.277</td>\n",
       "      <td>0.115</td>\n",
       "      <td>0.947</td>\n",
       "      <td>0.091</td>\n",
       "      <td>0.5643</td>\n",
       "      <td>1.3541</td>\n",
       "      <td>0.096</td>\n",
       "    </tr>\n",
       "  </tbody>\n",
       "</table>\n",
       "</div>"
      ],
      "text/plain": [
       "  DATA INICIAL  DATA FINAL        REGIÃO              ESTADO  \\\n",
       "0   09/05/2004  15/05/2004  CENTRO OESTE    DISTRITO FEDERAL   \n",
       "1   09/05/2004  15/05/2004  CENTRO OESTE               GOIAS   \n",
       "2   09/05/2004  15/05/2004  CENTRO OESTE         MATO GROSSO   \n",
       "3   09/05/2004  15/05/2004  CENTRO OESTE  MATO GROSSO DO SUL   \n",
       "4   09/05/2004  15/05/2004      NORDESTE             ALAGOAS   \n",
       "5   09/05/2004  15/05/2004      NORDESTE               BAHIA   \n",
       "6   09/05/2004  15/05/2004      NORDESTE               CEARA   \n",
       "7   09/05/2004  15/05/2004      NORDESTE            MARANHAO   \n",
       "8   09/05/2004  15/05/2004      NORDESTE             PARAIBA   \n",
       "9   09/05/2004  15/05/2004      NORDESTE          PERNAMBUCO   \n",
       "\n",
       "            PRODUTO  NÚMERO DE POSTOS PESQUISADOS UNIDADE DE MEDIDA  \\\n",
       "0  ETANOL HIDRATADO                           127              R$/l   \n",
       "1  ETANOL HIDRATADO                           387              R$/l   \n",
       "2  ETANOL HIDRATADO                           192              R$/l   \n",
       "3  ETANOL HIDRATADO                           162              R$/l   \n",
       "4  ETANOL HIDRATADO                           103              R$/l   \n",
       "5  ETANOL HIDRATADO                           408              R$/l   \n",
       "6  ETANOL HIDRATADO                           278              R$/l   \n",
       "7  ETANOL HIDRATADO                           105              R$/l   \n",
       "8  ETANOL HIDRATADO                           125              R$/l   \n",
       "9  ETANOL HIDRATADO                           423              R$/l   \n",
       "\n",
       "   PREÇO MÉDIO REVENDA  DESVIO PADRÃO REVENDA  PREÇO MÍNIMO REVENDA  \\\n",
       "0                1.288                  0.016                 1.190   \n",
       "1                1.162                  0.114                 0.890   \n",
       "2                1.389                  0.097                 1.180   \n",
       "3                1.262                  0.070                 1.090   \n",
       "4                1.181                  0.078                 1.050   \n",
       "5                1.383                  0.132                 0.999   \n",
       "6                1.453                  0.218                 1.030   \n",
       "7                1.631                  0.158                 1.350   \n",
       "8                1.284                  0.130                 1.100   \n",
       "9                1.224                  0.141                 0.989   \n",
       "\n",
       "   PREÇO MÁXIMO REVENDA MARGEM MÉDIA REVENDA  COEF DE VARIAÇÃO REVENDA  \\\n",
       "0                 1.350                0.463                     0.012   \n",
       "1                 1.449                0.399                     0.098   \n",
       "2                 1.760                0.419                     0.070   \n",
       "3                 1.509                0.432                     0.055   \n",
       "4                 1.400                 0.24                     0.066   \n",
       "5                 2.050                0.426                     0.095   \n",
       "6                 1.950                0.353                     0.150   \n",
       "7                 2.000                0.515                     0.097   \n",
       "8                 1.699                0.353                     0.101   \n",
       "9                 1.700                0.277                     0.115   \n",
       "\n",
       "  PREÇO MÉDIO DISTRIBUIÇÃO DESVIO PADRÃO DISTRIBUIÇÃO  \\\n",
       "0                    0.825                       0.11   \n",
       "1                    0.763                      0.088   \n",
       "2                     0.97                      0.095   \n",
       "3                     0.83                      0.119   \n",
       "4                    0.941                      0.077   \n",
       "5                    0.957                      0.128   \n",
       "6                      1.1                      0.068   \n",
       "7                    1.116                      0.091   \n",
       "8                    0.931                      0.072   \n",
       "9                    0.947                      0.091   \n",
       "\n",
       "  PREÇO MÍNIMO DISTRIBUIÇÃO PREÇO MÁXIMO DISTRIBUIÇÃO  \\\n",
       "0                    0.4201                    0.9666   \n",
       "1                    0.5013                      1.05   \n",
       "2                    0.5614                     1.161   \n",
       "3                    0.5991                   1.22242   \n",
       "4                    0.7441                    1.0317   \n",
       "5                    0.5686                      1.35   \n",
       "6                    0.7332                     1.294   \n",
       "7                    0.9923                   1.36183   \n",
       "8                    0.7577                    1.2972   \n",
       "9                    0.5643                    1.3541   \n",
       "\n",
       "  COEF DE VARIAÇÃO DISTRIBUIÇÃO  \n",
       "0                         0.133  \n",
       "1                         0.115  \n",
       "2                         0.098  \n",
       "3                         0.143  \n",
       "4                         0.082  \n",
       "5                         0.134  \n",
       "6                         0.062  \n",
       "7                         0.082  \n",
       "8                         0.077  \n",
       "9                         0.096  "
      ]
     },
     "execution_count": 100,
     "metadata": {},
     "output_type": "execute_result"
    }
   ],
   "source": [
    "pokemon = pd.read_csv(\"./datasets/pokemon/pokemon_data.csv\")\n",
    "gas = pd.read_csv(\"./datasets/gas_prices_brazil_2004-2021.csv\")\n",
    "# pokemon_xlsx = pd.read_excel(\"./datasets/pokemon_data.xlsx\")\n",
    "# pokemon_txt = pd.read_csv(\"./datasets/pokemon_data.txt\", delimeter=\"\\t\")"
   ]
  },
  {
   "cell_type": "code",
   "execution_count": null,
   "id": "7b80149f-3513-45e7-87a8-e5d35d9558ee",
   "metadata": {},
   "outputs": [],
   "source": []
  },
  {
   "cell_type": "markdown",
   "id": "26f8f8f3-5223-441e-9bd0-e0b3b8d30dbc",
   "metadata": {
    "jp-MarkdownHeadingCollapsed": true
   },
   "source": [
    "### Acessando Informações do DataFrame e Elementos Chave"
   ]
  },
  {
   "cell_type": "markdown",
   "id": "2451e4b6-d742-4eba-aab9-26e4f7640d51",
   "metadata": {
    "jp-MarkdownHeadingCollapsed": true
   },
   "source": [
    "#### Informações Gerais Sobre o Dataset"
   ]
  },
  {
   "cell_type": "code",
   "execution_count": null,
   "id": "f53b2401-4723-4834-ba96-3a81c6584715",
   "metadata": {},
   "outputs": [],
   "source": [
    "pokemon.info()\n",
    "gas.info()"
   ]
  },
  {
   "cell_type": "markdown",
   "id": "7118faf1-65c0-4b69-babe-0b116875b1d7",
   "metadata": {
    "jp-MarkdownHeadingCollapsed": true
   },
   "source": [
    "#### DataFrame"
   ]
  },
  {
   "cell_type": "markdown",
   "id": "e642f99e-b005-42bc-8492-1cef20d35d84",
   "metadata": {},
   "source": [
    "No pandas, o objeto que representa o dataset carregado é chamado de Data Frame<br>\n",
    "\n",
    "É uma tabela bi-dimensional, de tamanho mutável, com dados parcialmente heterogêneos"
   ]
  },
  {
   "cell_type": "code",
   "execution_count": 27,
   "id": "4657e5fa-2658-4c85-b1c3-41549f4e0551",
   "metadata": {},
   "outputs": [
    {
     "data": {
      "text/plain": [
       "pandas.core.frame.DataFrame"
      ]
     },
     "execution_count": 27,
     "metadata": {},
     "output_type": "execute_result"
    }
   ],
   "source": [
    "type(gas)"
   ]
  },
  {
   "cell_type": "markdown",
   "id": "1c773416-cbcc-45ab-beb6-5bc7bfb73273",
   "metadata": {},
   "source": [
    "Podemos acessar as dimensões do DataFrame utilizando o aributo .shape do Data Frame"
   ]
  },
  {
   "cell_type": "code",
   "execution_count": 28,
   "id": "919ad758-0234-4509-8ef8-b31fb5c5d2d9",
   "metadata": {},
   "outputs": [
    {
     "data": {
      "text/plain": [
       "(120823, 18)"
      ]
     },
     "execution_count": 28,
     "metadata": {},
     "output_type": "execute_result"
    }
   ],
   "source": [
    "gas.shape"
   ]
  },
  {
   "cell_type": "markdown",
   "id": "03970918-9235-4625-acbe-eb00190ac22a",
   "metadata": {
    "jp-MarkdownHeadingCollapsed": true
   },
   "source": [
    "##### Criando um DataFrame"
   ]
  },
  {
   "cell_type": "markdown",
   "id": "2d750e46-9c57-4728-8648-86f08456a284",
   "metadata": {},
   "source": [
    "A forma mais comum é importar um DataFrame, porém também é possível criar um a partir de um dicionário.<br>\n",
    "\n",
    "As chaves representam as colunas e cada valor da lista representam as linhas"
   ]
  },
  {
   "cell_type": "code",
   "execution_count": 39,
   "id": "d1d05cbf-7f74-41de-833f-f29eb4b9861a",
   "metadata": {},
   "outputs": [
    {
     "data": {
      "text/html": [
       "<div>\n",
       "<style scoped>\n",
       "    .dataframe tbody tr th:only-of-type {\n",
       "        vertical-align: middle;\n",
       "    }\n",
       "\n",
       "    .dataframe tbody tr th {\n",
       "        vertical-align: top;\n",
       "    }\n",
       "\n",
       "    .dataframe thead th {\n",
       "        text-align: right;\n",
       "    }\n",
       "</style>\n",
       "<table border=\"1\" class=\"dataframe\">\n",
       "  <thead>\n",
       "    <tr style=\"text-align: right;\">\n",
       "      <th></th>\n",
       "      <th>name</th>\n",
       "      <th>age</th>\n",
       "      <th>weight_kg</th>\n",
       "      <th>is_jedi</th>\n",
       "    </tr>\n",
       "  </thead>\n",
       "  <tbody>\n",
       "    <tr>\n",
       "      <th>0</th>\n",
       "      <td>Luke Skywalker</td>\n",
       "      <td>16</td>\n",
       "      <td>70</td>\n",
       "      <td>True</td>\n",
       "    </tr>\n",
       "    <tr>\n",
       "      <th>1</th>\n",
       "      <td>Yoda</td>\n",
       "      <td>1000</td>\n",
       "      <td>15</td>\n",
       "      <td>True</td>\n",
       "    </tr>\n",
       "    <tr>\n",
       "      <th>2</th>\n",
       "      <td>Palpatine</td>\n",
       "      <td>70</td>\n",
       "      <td>60</td>\n",
       "      <td>False</td>\n",
       "    </tr>\n",
       "  </tbody>\n",
       "</table>\n",
       "</div>"
      ],
      "text/plain": [
       "             name   age  weight_kg  is_jedi\n",
       "0  Luke Skywalker    16         70     True\n",
       "1            Yoda  1000         15     True\n",
       "2       Palpatine    70         60    False"
      ]
     },
     "execution_count": 39,
     "metadata": {},
     "output_type": "execute_result"
    }
   ],
   "source": [
    "star_wars_dict = {\n",
    "    \"name\": [\"Luke Skywalker\", \"Yoda\", \"Palpatine\"],\n",
    "    \"age\": [16, 1000, 70],\n",
    "    \"weight_kg\": [70, 15, 60],\n",
    "    \"is_jedi\": [True, True, False]\n",
    "}\n",
    "\n",
    "star_wars = pd.DataFrame(star_wars_dict)\n",
    "star_wars"
   ]
  },
  {
   "cell_type": "markdown",
   "id": "964d4bef-e701-4312-b868-203c36813a44",
   "metadata": {},
   "source": [
    "##### Colunas"
   ]
  },
  {
   "cell_type": "code",
   "execution_count": 32,
   "id": "2ef44d54-032c-4545-bc07-6eb4290a1530",
   "metadata": {},
   "outputs": [
    {
     "data": {
      "text/plain": [
       "Index(['nome', 'age', 'weight_kg', 'is_jedi'], dtype='object')"
      ]
     },
     "execution_count": 32,
     "metadata": {},
     "output_type": "execute_result"
    }
   ],
   "source": [
    "star_wars.columns"
   ]
  },
  {
   "cell_type": "code",
   "execution_count": 34,
   "id": "912cc1c5-5601-4ef0-9771-8e48812cd453",
   "metadata": {},
   "outputs": [
    {
     "data": {
      "text/plain": [
       "pandas.core.indexes.base.Index"
      ]
     },
     "execution_count": 34,
     "metadata": {},
     "output_type": "execute_result"
    }
   ],
   "source": [
    "type(star_wars.columns)"
   ]
  },
  {
   "cell_type": "code",
   "execution_count": 35,
   "id": "fbde361b-9639-4f36-bf92-340722a8b0df",
   "metadata": {},
   "outputs": [
    {
     "data": {
      "text/plain": [
       "['nome', 'age', 'weight_kg', 'is_jedi']"
      ]
     },
     "execution_count": 35,
     "metadata": {},
     "output_type": "execute_result"
    }
   ],
   "source": [
    "list(star_wars.columns)"
   ]
  },
  {
   "cell_type": "markdown",
   "id": "2a3811bd-a004-4bfd-ac8a-f01460dab1ba",
   "metadata": {},
   "source": [
    "Para renomear colunas do DataFrame, utilize o metodo rename, pode retornar uma cópia ou alterar o original"
   ]
  },
  {
   "cell_type": "code",
   "execution_count": 44,
   "id": "4e2ce85c-dd8f-481d-b159-5e7fd905d2d1",
   "metadata": {},
   "outputs": [],
   "source": [
    "cpsw = star_wars.rename(columns={\n",
    "    \"name\": \"full name\"\n",
    "}, inplace=True)\n"
   ]
  },
  {
   "cell_type": "code",
   "execution_count": 45,
   "id": "cf968ebf-971f-4b80-8fa2-1c90dc550357",
   "metadata": {},
   "outputs": [
    {
     "data": {
      "text/html": [
       "<div>\n",
       "<style scoped>\n",
       "    .dataframe tbody tr th:only-of-type {\n",
       "        vertical-align: middle;\n",
       "    }\n",
       "\n",
       "    .dataframe tbody tr th {\n",
       "        vertical-align: top;\n",
       "    }\n",
       "\n",
       "    .dataframe thead th {\n",
       "        text-align: right;\n",
       "    }\n",
       "</style>\n",
       "<table border=\"1\" class=\"dataframe\">\n",
       "  <thead>\n",
       "    <tr style=\"text-align: right;\">\n",
       "      <th></th>\n",
       "      <th>full name</th>\n",
       "      <th>age</th>\n",
       "      <th>weight_kg</th>\n",
       "      <th>is_jedi</th>\n",
       "    </tr>\n",
       "  </thead>\n",
       "  <tbody>\n",
       "    <tr>\n",
       "      <th>0</th>\n",
       "      <td>Luke Skywalker</td>\n",
       "      <td>16</td>\n",
       "      <td>70</td>\n",
       "      <td>True</td>\n",
       "    </tr>\n",
       "    <tr>\n",
       "      <th>1</th>\n",
       "      <td>Yoda</td>\n",
       "      <td>1000</td>\n",
       "      <td>15</td>\n",
       "      <td>True</td>\n",
       "    </tr>\n",
       "    <tr>\n",
       "      <th>2</th>\n",
       "      <td>Palpatine</td>\n",
       "      <td>70</td>\n",
       "      <td>60</td>\n",
       "      <td>False</td>\n",
       "    </tr>\n",
       "  </tbody>\n",
       "</table>\n",
       "</div>"
      ],
      "text/plain": [
       "        full name   age  weight_kg  is_jedi\n",
       "0  Luke Skywalker    16         70     True\n",
       "1            Yoda  1000         15     True\n",
       "2       Palpatine    70         60    False"
      ]
     },
     "execution_count": 45,
     "metadata": {},
     "output_type": "execute_result"
    }
   ],
   "source": [
    "star_wars"
   ]
  },
  {
   "cell_type": "markdown",
   "id": "980e45d1-df38-4ac1-8988-c4863881f5af",
   "metadata": {
    "jp-MarkdownHeadingCollapsed": true
   },
   "source": [
    "#### Series"
   ]
  },
  {
   "cell_type": "markdown",
   "id": "e16fdd81-d3e5-4730-b021-91bff2dbfe6e",
   "metadata": {},
   "source": [
    "Array uni-dimensional com os dados e rótulos de um eixo (linha ou coluna)"
   ]
  },
  {
   "cell_type": "code",
   "execution_count": 49,
   "id": "8d2b099b-8c28-40b4-926c-ca8d8b5b5c66",
   "metadata": {},
   "outputs": [
    {
     "data": {
      "text/html": [
       "<div>\n",
       "<style scoped>\n",
       "    .dataframe tbody tr th:only-of-type {\n",
       "        vertical-align: middle;\n",
       "    }\n",
       "\n",
       "    .dataframe tbody tr th {\n",
       "        vertical-align: top;\n",
       "    }\n",
       "\n",
       "    .dataframe thead th {\n",
       "        text-align: right;\n",
       "    }\n",
       "</style>\n",
       "<table border=\"1\" class=\"dataframe\">\n",
       "  <thead>\n",
       "    <tr style=\"text-align: right;\">\n",
       "      <th></th>\n",
       "      <th>DATA INICIAL</th>\n",
       "      <th>DATA FINAL</th>\n",
       "      <th>REGIÃO</th>\n",
       "      <th>ESTADO</th>\n",
       "      <th>PRODUTO</th>\n",
       "      <th>NÚMERO DE POSTOS PESQUISADOS</th>\n",
       "      <th>UNIDADE DE MEDIDA</th>\n",
       "      <th>PREÇO MÉDIO REVENDA</th>\n",
       "      <th>DESVIO PADRÃO REVENDA</th>\n",
       "      <th>PREÇO MÍNIMO REVENDA</th>\n",
       "      <th>PREÇO MÁXIMO REVENDA</th>\n",
       "      <th>MARGEM MÉDIA REVENDA</th>\n",
       "      <th>COEF DE VARIAÇÃO REVENDA</th>\n",
       "      <th>PREÇO MÉDIO DISTRIBUIÇÃO</th>\n",
       "      <th>DESVIO PADRÃO DISTRIBUIÇÃO</th>\n",
       "      <th>PREÇO MÍNIMO DISTRIBUIÇÃO</th>\n",
       "      <th>PREÇO MÁXIMO DISTRIBUIÇÃO</th>\n",
       "      <th>COEF DE VARIAÇÃO DISTRIBUIÇÃO</th>\n",
       "    </tr>\n",
       "  </thead>\n",
       "  <tbody>\n",
       "    <tr>\n",
       "      <th>0</th>\n",
       "      <td>09/05/2004</td>\n",
       "      <td>15/05/2004</td>\n",
       "      <td>CENTRO OESTE</td>\n",
       "      <td>DISTRITO FEDERAL</td>\n",
       "      <td>ETANOL HIDRATADO</td>\n",
       "      <td>127</td>\n",
       "      <td>R$/l</td>\n",
       "      <td>1.288</td>\n",
       "      <td>0.016</td>\n",
       "      <td>1.19</td>\n",
       "      <td>1.350</td>\n",
       "      <td>0.463</td>\n",
       "      <td>0.012</td>\n",
       "      <td>0.825</td>\n",
       "      <td>0.11</td>\n",
       "      <td>0.4201</td>\n",
       "      <td>0.9666</td>\n",
       "      <td>0.133</td>\n",
       "    </tr>\n",
       "    <tr>\n",
       "      <th>1</th>\n",
       "      <td>09/05/2004</td>\n",
       "      <td>15/05/2004</td>\n",
       "      <td>CENTRO OESTE</td>\n",
       "      <td>GOIAS</td>\n",
       "      <td>ETANOL HIDRATADO</td>\n",
       "      <td>387</td>\n",
       "      <td>R$/l</td>\n",
       "      <td>1.162</td>\n",
       "      <td>0.114</td>\n",
       "      <td>0.89</td>\n",
       "      <td>1.449</td>\n",
       "      <td>0.399</td>\n",
       "      <td>0.098</td>\n",
       "      <td>0.763</td>\n",
       "      <td>0.088</td>\n",
       "      <td>0.5013</td>\n",
       "      <td>1.05</td>\n",
       "      <td>0.115</td>\n",
       "    </tr>\n",
       "    <tr>\n",
       "      <th>2</th>\n",
       "      <td>09/05/2004</td>\n",
       "      <td>15/05/2004</td>\n",
       "      <td>CENTRO OESTE</td>\n",
       "      <td>MATO GROSSO</td>\n",
       "      <td>ETANOL HIDRATADO</td>\n",
       "      <td>192</td>\n",
       "      <td>R$/l</td>\n",
       "      <td>1.389</td>\n",
       "      <td>0.097</td>\n",
       "      <td>1.18</td>\n",
       "      <td>1.760</td>\n",
       "      <td>0.419</td>\n",
       "      <td>0.070</td>\n",
       "      <td>0.97</td>\n",
       "      <td>0.095</td>\n",
       "      <td>0.5614</td>\n",
       "      <td>1.161</td>\n",
       "      <td>0.098</td>\n",
       "    </tr>\n",
       "    <tr>\n",
       "      <th>3</th>\n",
       "      <td>09/05/2004</td>\n",
       "      <td>15/05/2004</td>\n",
       "      <td>CENTRO OESTE</td>\n",
       "      <td>MATO GROSSO DO SUL</td>\n",
       "      <td>ETANOL HIDRATADO</td>\n",
       "      <td>162</td>\n",
       "      <td>R$/l</td>\n",
       "      <td>1.262</td>\n",
       "      <td>0.070</td>\n",
       "      <td>1.09</td>\n",
       "      <td>1.509</td>\n",
       "      <td>0.432</td>\n",
       "      <td>0.055</td>\n",
       "      <td>0.83</td>\n",
       "      <td>0.119</td>\n",
       "      <td>0.5991</td>\n",
       "      <td>1.22242</td>\n",
       "      <td>0.143</td>\n",
       "    </tr>\n",
       "    <tr>\n",
       "      <th>4</th>\n",
       "      <td>09/05/2004</td>\n",
       "      <td>15/05/2004</td>\n",
       "      <td>NORDESTE</td>\n",
       "      <td>ALAGOAS</td>\n",
       "      <td>ETANOL HIDRATADO</td>\n",
       "      <td>103</td>\n",
       "      <td>R$/l</td>\n",
       "      <td>1.181</td>\n",
       "      <td>0.078</td>\n",
       "      <td>1.05</td>\n",
       "      <td>1.400</td>\n",
       "      <td>0.24</td>\n",
       "      <td>0.066</td>\n",
       "      <td>0.941</td>\n",
       "      <td>0.077</td>\n",
       "      <td>0.7441</td>\n",
       "      <td>1.0317</td>\n",
       "      <td>0.082</td>\n",
       "    </tr>\n",
       "  </tbody>\n",
       "</table>\n",
       "</div>"
      ],
      "text/plain": [
       "  DATA INICIAL  DATA FINAL        REGIÃO              ESTADO  \\\n",
       "0   09/05/2004  15/05/2004  CENTRO OESTE    DISTRITO FEDERAL   \n",
       "1   09/05/2004  15/05/2004  CENTRO OESTE               GOIAS   \n",
       "2   09/05/2004  15/05/2004  CENTRO OESTE         MATO GROSSO   \n",
       "3   09/05/2004  15/05/2004  CENTRO OESTE  MATO GROSSO DO SUL   \n",
       "4   09/05/2004  15/05/2004      NORDESTE             ALAGOAS   \n",
       "\n",
       "            PRODUTO  NÚMERO DE POSTOS PESQUISADOS UNIDADE DE MEDIDA  \\\n",
       "0  ETANOL HIDRATADO                           127              R$/l   \n",
       "1  ETANOL HIDRATADO                           387              R$/l   \n",
       "2  ETANOL HIDRATADO                           192              R$/l   \n",
       "3  ETANOL HIDRATADO                           162              R$/l   \n",
       "4  ETANOL HIDRATADO                           103              R$/l   \n",
       "\n",
       "   PREÇO MÉDIO REVENDA  DESVIO PADRÃO REVENDA  PREÇO MÍNIMO REVENDA  \\\n",
       "0                1.288                  0.016                  1.19   \n",
       "1                1.162                  0.114                  0.89   \n",
       "2                1.389                  0.097                  1.18   \n",
       "3                1.262                  0.070                  1.09   \n",
       "4                1.181                  0.078                  1.05   \n",
       "\n",
       "   PREÇO MÁXIMO REVENDA MARGEM MÉDIA REVENDA  COEF DE VARIAÇÃO REVENDA  \\\n",
       "0                 1.350                0.463                     0.012   \n",
       "1                 1.449                0.399                     0.098   \n",
       "2                 1.760                0.419                     0.070   \n",
       "3                 1.509                0.432                     0.055   \n",
       "4                 1.400                 0.24                     0.066   \n",
       "\n",
       "  PREÇO MÉDIO DISTRIBUIÇÃO DESVIO PADRÃO DISTRIBUIÇÃO  \\\n",
       "0                    0.825                       0.11   \n",
       "1                    0.763                      0.088   \n",
       "2                     0.97                      0.095   \n",
       "3                     0.83                      0.119   \n",
       "4                    0.941                      0.077   \n",
       "\n",
       "  PREÇO MÍNIMO DISTRIBUIÇÃO PREÇO MÁXIMO DISTRIBUIÇÃO  \\\n",
       "0                    0.4201                    0.9666   \n",
       "1                    0.5013                      1.05   \n",
       "2                    0.5614                     1.161   \n",
       "3                    0.5991                   1.22242   \n",
       "4                    0.7441                    1.0317   \n",
       "\n",
       "  COEF DE VARIAÇÃO DISTRIBUIÇÃO  \n",
       "0                         0.133  \n",
       "1                         0.115  \n",
       "2                         0.098  \n",
       "3                         0.143  \n",
       "4                         0.082  "
      ]
     },
     "execution_count": 49,
     "metadata": {},
     "output_type": "execute_result"
    }
   ],
   "source": [
    "gas.head()"
   ]
  },
  {
   "cell_type": "code",
   "execution_count": 65,
   "id": "7b0743bf-8080-4afb-90d2-5f9deeefed87",
   "metadata": {},
   "outputs": [
    {
     "data": {
      "text/plain": [
       "0           DISTRITO FEDERAL\n",
       "1                      GOIAS\n",
       "2                MATO GROSSO\n",
       "3         MATO GROSSO DO SUL\n",
       "4                    ALAGOAS\n",
       "                 ...        \n",
       "120818               RORAIMA\n",
       "120819        SANTA CATARINA\n",
       "120820             SAO PAULO\n",
       "120821               SERGIPE\n",
       "120822             TOCANTINS\n",
       "Name: ESTADO, Length: 120823, dtype: object"
      ]
     },
     "execution_count": 65,
     "metadata": {},
     "output_type": "execute_result"
    }
   ],
   "source": [
    "# Selecionando uma coluna inteira\n",
    "# A series retornada é uma REFERÊNCIA ao DataFrame (Não é uma cópia)\n",
    "\n",
    "gas[\"ESTADO\"]"
   ]
  },
  {
   "cell_type": "code",
   "execution_count": 54,
   "id": "8bcd34f9-ae95-49a9-b480-4a4762a97629",
   "metadata": {},
   "outputs": [
    {
     "data": {
      "text/plain": [
       "0           DISTRITO FEDERAL\n",
       "1                      GOIAS\n",
       "2                MATO GROSSO\n",
       "3         MATO GROSSO DO SUL\n",
       "4                    ALAGOAS\n",
       "                 ...        \n",
       "120818               RORAIMA\n",
       "120819        SANTA CATARINA\n",
       "120820             SAO PAULO\n",
       "120821               SERGIPE\n",
       "120822             TOCANTINS\n",
       "Name: ESTADO, Length: 120823, dtype: object"
      ]
     },
     "execution_count": 54,
     "metadata": {},
     "output_type": "execute_result"
    }
   ],
   "source": [
    "# Selecionando uma coluna inteira\n",
    "# Esta forma só funciona para colunas sem espaços (ou qualquer outro caractere invalido)\n",
    "\n",
    "gas.ESTADO"
   ]
  },
  {
   "cell_type": "code",
   "execution_count": 56,
   "id": "3fb9e59e-9050-4322-b4ed-b89b7019256c",
   "metadata": {},
   "outputs": [
    {
     "data": {
      "text/plain": [
       "pandas.core.series.Series"
      ]
     },
     "execution_count": 56,
     "metadata": {},
     "output_type": "execute_result"
    }
   ],
   "source": [
    "type(gas[\"ESTADO\"])"
   ]
  },
  {
   "cell_type": "code",
   "execution_count": 58,
   "id": "cee4782e-e74c-4a52-b3cf-0fb50db03335",
   "metadata": {},
   "outputs": [
    {
     "data": {
      "text/plain": [
       "DATA INICIAL                           09/05/2004\n",
       "DATA FINAL                             15/05/2004\n",
       "REGIÃO                               CENTRO OESTE\n",
       "ESTADO                                      GOIAS\n",
       "PRODUTO                          ETANOL HIDRATADO\n",
       "NÚMERO DE POSTOS PESQUISADOS                  387\n",
       "UNIDADE DE MEDIDA                            R$/l\n",
       "PREÇO MÉDIO REVENDA                         1.162\n",
       "DESVIO PADRÃO REVENDA                       0.114\n",
       "PREÇO MÍNIMO REVENDA                         0.89\n",
       "PREÇO MÁXIMO REVENDA                        1.449\n",
       "MARGEM MÉDIA REVENDA                        0.399\n",
       "COEF DE VARIAÇÃO REVENDA                    0.098\n",
       "PREÇO MÉDIO DISTRIBUIÇÃO                    0.763\n",
       "DESVIO PADRÃO DISTRIBUIÇÃO                  0.088\n",
       "PREÇO MÍNIMO DISTRIBUIÇÃO                  0.5013\n",
       "PREÇO MÁXIMO DISTRIBUIÇÃO                    1.05\n",
       "COEF DE VARIAÇÃO DISTRIBUIÇÃO               0.115\n",
       "Name: 1, dtype: object"
      ]
     },
     "execution_count": 58,
     "metadata": {},
     "output_type": "execute_result"
    }
   ],
   "source": [
    "# Selecionando a observação indexada no index 1 do DataFrame\n",
    "\n",
    "gas.iloc[1]"
   ]
  },
  {
   "cell_type": "code",
   "execution_count": 59,
   "id": "90d6e896-ced2-4895-9c24-087e2e4a9907",
   "metadata": {},
   "outputs": [
    {
     "data": {
      "text/plain": [
       "pandas.core.series.Series"
      ]
     },
     "execution_count": 59,
     "metadata": {},
     "output_type": "execute_result"
    }
   ],
   "source": [
    "type(gas.iloc[1])"
   ]
  },
  {
   "cell_type": "markdown",
   "id": "97548a71-56a2-4f48-bdd3-c917ee10e430",
   "metadata": {
    "jp-MarkdownHeadingCollapsed": true
   },
   "source": [
    "##### Criando uma Series"
   ]
  },
  {
   "cell_type": "code",
   "execution_count": 61,
   "id": "76796c14-4a64-429c-9f2b-d90b4ec6b8a6",
   "metadata": {},
   "outputs": [
    {
     "data": {
      "text/plain": [
       "0     5.5\n",
       "1     6.0\n",
       "2    12.0\n",
       "dtype: float64"
      ]
     },
     "execution_count": 61,
     "metadata": {},
     "output_type": "execute_result"
    }
   ],
   "source": [
    "pd.Series([5.5, 6.0, 12])"
   ]
  },
  {
   "cell_type": "markdown",
   "id": "01836a73-a118-457c-bd24-532841e363bc",
   "metadata": {
    "jp-MarkdownHeadingCollapsed": true
   },
   "source": [
    "#### Atribuindo Dados"
   ]
  },
  {
   "cell_type": "markdown",
   "id": "62608ccf-1f39-4d40-b76a-eec076fff860",
   "metadata": {
    "jp-MarkdownHeadingCollapsed": true
   },
   "source": [
    "##### Atribuindo constantes"
   ]
  },
  {
   "cell_type": "code",
   "execution_count": 101,
   "id": "ac86bc6d-4e1c-404e-9c04-4d1ae8b8de00",
   "metadata": {},
   "outputs": [
    {
     "data": {
      "text/plain": [
       "0         ETANOL HIDRATADO\n",
       "1         ETANOL HIDRATADO\n",
       "2         ETANOL HIDRATADO\n",
       "3         ETANOL HIDRATADO\n",
       "4         ETANOL HIDRATADO\n",
       "                ...       \n",
       "120818     OLEO DIESEL S10\n",
       "120819     OLEO DIESEL S10\n",
       "120820     OLEO DIESEL S10\n",
       "120821     OLEO DIESEL S10\n",
       "120822     OLEO DIESEL S10\n",
       "Name: PRODUTO, Length: 120823, dtype: object"
      ]
     },
     "execution_count": 101,
     "metadata": {},
     "output_type": "execute_result"
    }
   ],
   "source": [
    "produto_view = gas[\"PRODUTO\"]\n",
    "produto_view"
   ]
  },
  {
   "cell_type": "code",
   "execution_count": 102,
   "id": "5b5dcdef-b132-48e7-b26d-83cdc2dc9000",
   "metadata": {},
   "outputs": [
    {
     "data": {
      "text/plain": [
       "0         ETANOL HIDRATADO\n",
       "1         ETANOL HIDRATADO\n",
       "2         ETANOL HIDRATADO\n",
       "3         ETANOL HIDRATADO\n",
       "4         ETANOL HIDRATADO\n",
       "                ...       \n",
       "120818     OLEO DIESEL S10\n",
       "120819     OLEO DIESEL S10\n",
       "120820     OLEO DIESEL S10\n",
       "120821     OLEO DIESEL S10\n",
       "120822     OLEO DIESEL S10\n",
       "Name: PRODUTO, Length: 120823, dtype: object"
      ]
     },
     "execution_count": 102,
     "metadata": {},
     "output_type": "execute_result"
    }
   ],
   "source": [
    "produto_copy = gas[\"PRODUTO\"].copy()\n",
    "produto_copy"
   ]
  },
  {
   "cell_type": "code",
   "execution_count": 110,
   "id": "90f27f85-a062-422a-bf70-a69cc5f7d004",
   "metadata": {},
   "outputs": [
    {
     "data": {
      "text/plain": [
       "'Combustível'"
      ]
     },
     "execution_count": 110,
     "metadata": {},
     "output_type": "execute_result"
    }
   ],
   "source": [
    "# gas[\"PRODUTO\"] = \"Combustível\""
   ]
  },
  {
   "cell_type": "markdown",
   "id": "e1066a3d-3be2-4cc6-939f-15b7ed98204d",
   "metadata": {
    "jp-MarkdownHeadingCollapsed": true
   },
   "source": [
    "##### Atribuindo listas ou series"
   ]
  },
  {
   "cell_type": "code",
   "execution_count": 104,
   "id": "9f8d3f26-bb4d-4462-94d0-55b2fed918fc",
   "metadata": {},
   "outputs": [],
   "source": [
    "nrows, ncols = gas.shape\n",
    "novos_produtos = [f\"Produto {i}\" for i in range(nrows)]\n",
    "len(novos_produtos)"
   ]
  },
  {
   "cell_type": "code",
   "execution_count": null,
   "id": "530c9670-9126-4584-a4b8-0258e90c04c3",
   "metadata": {},
   "outputs": [],
   "source": [
    "# gas[\"PRODUTO\"] = novos_produtos"
   ]
  },
  {
   "cell_type": "markdown",
   "id": "99c3c47a-0d6e-4208-9702-bf0e3658fe6a",
   "metadata": {},
   "source": [
    "##### Criando novas colunas"
   ]
  },
  {
   "cell_type": "code",
   "execution_count": 114,
   "id": "50040f52-bda3-4c85-a7c8-1bcca1ac77f6",
   "metadata": {},
   "outputs": [],
   "source": [
    "# Valor constante\n",
    "\n",
    "gas[\"COLUNA NOVA\"] = \"DEFAULT\""
   ]
  },
  {
   "cell_type": "code",
   "execution_count": 116,
   "id": "d06f8bd8-d96b-4a81-bcbf-74ab4bbad522",
   "metadata": {},
   "outputs": [],
   "source": [
    "# A partir de uma lista\n",
    "\n",
    "gas[\"COLUNA A PARTIR DE LISTA\"] = range(gas.shape[0])"
   ]
  },
  {
   "cell_type": "code",
   "execution_count": 119,
   "id": "f0773996-c9b1-4964-9cf7-fdcb7fafb210",
   "metadata": {},
   "outputs": [],
   "source": [
    "# Derivado de outras colunas\n",
    "\n",
    "gas[\"VALOR DERIVADO DE OUTRAS COLUNAS\"] = gas[\"PREÇO MÉDIO REVENDA\"] * 6.0"
   ]
  },
  {
   "cell_type": "code",
   "execution_count": 120,
   "id": "ecc32599-b6e5-4586-b491-87d40ad1c3db",
   "metadata": {},
   "outputs": [
    {
     "data": {
      "text/html": [
       "<div>\n",
       "<style scoped>\n",
       "    .dataframe tbody tr th:only-of-type {\n",
       "        vertical-align: middle;\n",
       "    }\n",
       "\n",
       "    .dataframe tbody tr th {\n",
       "        vertical-align: top;\n",
       "    }\n",
       "\n",
       "    .dataframe thead th {\n",
       "        text-align: right;\n",
       "    }\n",
       "</style>\n",
       "<table border=\"1\" class=\"dataframe\">\n",
       "  <thead>\n",
       "    <tr style=\"text-align: right;\">\n",
       "      <th></th>\n",
       "      <th>DATA INICIAL</th>\n",
       "      <th>DATA FINAL</th>\n",
       "      <th>REGIÃO</th>\n",
       "      <th>ESTADO</th>\n",
       "      <th>PRODUTO</th>\n",
       "      <th>NÚMERO DE POSTOS PESQUISADOS</th>\n",
       "      <th>UNIDADE DE MEDIDA</th>\n",
       "      <th>PREÇO MÉDIO REVENDA</th>\n",
       "      <th>DESVIO PADRÃO REVENDA</th>\n",
       "      <th>PREÇO MÍNIMO REVENDA</th>\n",
       "      <th>...</th>\n",
       "      <th>COEF DE VARIAÇÃO REVENDA</th>\n",
       "      <th>PREÇO MÉDIO DISTRIBUIÇÃO</th>\n",
       "      <th>DESVIO PADRÃO DISTRIBUIÇÃO</th>\n",
       "      <th>PREÇO MÍNIMO DISTRIBUIÇÃO</th>\n",
       "      <th>PREÇO MÁXIMO DISTRIBUIÇÃO</th>\n",
       "      <th>COEF DE VARIAÇÃO DISTRIBUIÇÃO</th>\n",
       "      <th>coluna nova</th>\n",
       "      <th>COLUNA NOVA</th>\n",
       "      <th>COLUNA A PARTIR DE LISTA</th>\n",
       "      <th>VALOR DERIVADO DE OUTRAS COLUNAS</th>\n",
       "    </tr>\n",
       "  </thead>\n",
       "  <tbody>\n",
       "    <tr>\n",
       "      <th>0</th>\n",
       "      <td>09/05/2004</td>\n",
       "      <td>15/05/2004</td>\n",
       "      <td>CENTRO OESTE</td>\n",
       "      <td>DISTRITO FEDERAL</td>\n",
       "      <td>ETANOL HIDRATADO</td>\n",
       "      <td>127</td>\n",
       "      <td>R$/l</td>\n",
       "      <td>1.288</td>\n",
       "      <td>0.016</td>\n",
       "      <td>1.19</td>\n",
       "      <td>...</td>\n",
       "      <td>0.012</td>\n",
       "      <td>0.825</td>\n",
       "      <td>0.11</td>\n",
       "      <td>0.4201</td>\n",
       "      <td>0.9666</td>\n",
       "      <td>0.133</td>\n",
       "      <td>DEFAULT</td>\n",
       "      <td>DEFAULT</td>\n",
       "      <td>0</td>\n",
       "      <td>7.728</td>\n",
       "    </tr>\n",
       "    <tr>\n",
       "      <th>1</th>\n",
       "      <td>09/05/2004</td>\n",
       "      <td>15/05/2004</td>\n",
       "      <td>CENTRO OESTE</td>\n",
       "      <td>GOIAS</td>\n",
       "      <td>ETANOL HIDRATADO</td>\n",
       "      <td>387</td>\n",
       "      <td>R$/l</td>\n",
       "      <td>1.162</td>\n",
       "      <td>0.114</td>\n",
       "      <td>0.89</td>\n",
       "      <td>...</td>\n",
       "      <td>0.098</td>\n",
       "      <td>0.763</td>\n",
       "      <td>0.088</td>\n",
       "      <td>0.5013</td>\n",
       "      <td>1.05</td>\n",
       "      <td>0.115</td>\n",
       "      <td>DEFAULT</td>\n",
       "      <td>DEFAULT</td>\n",
       "      <td>1</td>\n",
       "      <td>6.972</td>\n",
       "    </tr>\n",
       "    <tr>\n",
       "      <th>2</th>\n",
       "      <td>09/05/2004</td>\n",
       "      <td>15/05/2004</td>\n",
       "      <td>CENTRO OESTE</td>\n",
       "      <td>MATO GROSSO</td>\n",
       "      <td>ETANOL HIDRATADO</td>\n",
       "      <td>192</td>\n",
       "      <td>R$/l</td>\n",
       "      <td>1.389</td>\n",
       "      <td>0.097</td>\n",
       "      <td>1.18</td>\n",
       "      <td>...</td>\n",
       "      <td>0.070</td>\n",
       "      <td>0.97</td>\n",
       "      <td>0.095</td>\n",
       "      <td>0.5614</td>\n",
       "      <td>1.161</td>\n",
       "      <td>0.098</td>\n",
       "      <td>DEFAULT</td>\n",
       "      <td>DEFAULT</td>\n",
       "      <td>2</td>\n",
       "      <td>8.334</td>\n",
       "    </tr>\n",
       "    <tr>\n",
       "      <th>3</th>\n",
       "      <td>09/05/2004</td>\n",
       "      <td>15/05/2004</td>\n",
       "      <td>CENTRO OESTE</td>\n",
       "      <td>MATO GROSSO DO SUL</td>\n",
       "      <td>ETANOL HIDRATADO</td>\n",
       "      <td>162</td>\n",
       "      <td>R$/l</td>\n",
       "      <td>1.262</td>\n",
       "      <td>0.070</td>\n",
       "      <td>1.09</td>\n",
       "      <td>...</td>\n",
       "      <td>0.055</td>\n",
       "      <td>0.83</td>\n",
       "      <td>0.119</td>\n",
       "      <td>0.5991</td>\n",
       "      <td>1.22242</td>\n",
       "      <td>0.143</td>\n",
       "      <td>DEFAULT</td>\n",
       "      <td>DEFAULT</td>\n",
       "      <td>3</td>\n",
       "      <td>7.572</td>\n",
       "    </tr>\n",
       "    <tr>\n",
       "      <th>4</th>\n",
       "      <td>09/05/2004</td>\n",
       "      <td>15/05/2004</td>\n",
       "      <td>NORDESTE</td>\n",
       "      <td>ALAGOAS</td>\n",
       "      <td>ETANOL HIDRATADO</td>\n",
       "      <td>103</td>\n",
       "      <td>R$/l</td>\n",
       "      <td>1.181</td>\n",
       "      <td>0.078</td>\n",
       "      <td>1.05</td>\n",
       "      <td>...</td>\n",
       "      <td>0.066</td>\n",
       "      <td>0.941</td>\n",
       "      <td>0.077</td>\n",
       "      <td>0.7441</td>\n",
       "      <td>1.0317</td>\n",
       "      <td>0.082</td>\n",
       "      <td>DEFAULT</td>\n",
       "      <td>DEFAULT</td>\n",
       "      <td>4</td>\n",
       "      <td>7.086</td>\n",
       "    </tr>\n",
       "  </tbody>\n",
       "</table>\n",
       "<p>5 rows × 22 columns</p>\n",
       "</div>"
      ],
      "text/plain": [
       "  DATA INICIAL  DATA FINAL        REGIÃO              ESTADO  \\\n",
       "0   09/05/2004  15/05/2004  CENTRO OESTE    DISTRITO FEDERAL   \n",
       "1   09/05/2004  15/05/2004  CENTRO OESTE               GOIAS   \n",
       "2   09/05/2004  15/05/2004  CENTRO OESTE         MATO GROSSO   \n",
       "3   09/05/2004  15/05/2004  CENTRO OESTE  MATO GROSSO DO SUL   \n",
       "4   09/05/2004  15/05/2004      NORDESTE             ALAGOAS   \n",
       "\n",
       "            PRODUTO  NÚMERO DE POSTOS PESQUISADOS UNIDADE DE MEDIDA  \\\n",
       "0  ETANOL HIDRATADO                           127              R$/l   \n",
       "1  ETANOL HIDRATADO                           387              R$/l   \n",
       "2  ETANOL HIDRATADO                           192              R$/l   \n",
       "3  ETANOL HIDRATADO                           162              R$/l   \n",
       "4  ETANOL HIDRATADO                           103              R$/l   \n",
       "\n",
       "   PREÇO MÉDIO REVENDA  DESVIO PADRÃO REVENDA  PREÇO MÍNIMO REVENDA  ...  \\\n",
       "0                1.288                  0.016                  1.19  ...   \n",
       "1                1.162                  0.114                  0.89  ...   \n",
       "2                1.389                  0.097                  1.18  ...   \n",
       "3                1.262                  0.070                  1.09  ...   \n",
       "4                1.181                  0.078                  1.05  ...   \n",
       "\n",
       "   COEF DE VARIAÇÃO REVENDA PREÇO MÉDIO DISTRIBUIÇÃO  \\\n",
       "0                     0.012                    0.825   \n",
       "1                     0.098                    0.763   \n",
       "2                     0.070                     0.97   \n",
       "3                     0.055                     0.83   \n",
       "4                     0.066                    0.941   \n",
       "\n",
       "   DESVIO PADRÃO DISTRIBUIÇÃO PREÇO MÍNIMO DISTRIBUIÇÃO  \\\n",
       "0                        0.11                    0.4201   \n",
       "1                       0.088                    0.5013   \n",
       "2                       0.095                    0.5614   \n",
       "3                       0.119                    0.5991   \n",
       "4                       0.077                    0.7441   \n",
       "\n",
       "  PREÇO MÁXIMO DISTRIBUIÇÃO COEF DE VARIAÇÃO DISTRIBUIÇÃO coluna nova  \\\n",
       "0                    0.9666                         0.133     DEFAULT   \n",
       "1                      1.05                         0.115     DEFAULT   \n",
       "2                     1.161                         0.098     DEFAULT   \n",
       "3                   1.22242                         0.143     DEFAULT   \n",
       "4                    1.0317                         0.082     DEFAULT   \n",
       "\n",
       "  COLUNA NOVA COLUNA A PARTIR DE LISTA VALOR DERIVADO DE OUTRAS COLUNAS  \n",
       "0     DEFAULT                        0                            7.728  \n",
       "1     DEFAULT                        1                            6.972  \n",
       "2     DEFAULT                        2                            8.334  \n",
       "3     DEFAULT                        3                            7.572  \n",
       "4     DEFAULT                        4                            7.086  \n",
       "\n",
       "[5 rows x 22 columns]"
      ]
     },
     "execution_count": 120,
     "metadata": {},
     "output_type": "execute_result"
    }
   ],
   "source": [
    "gas.head()"
   ]
  },
  {
   "cell_type": "markdown",
   "id": "f72367fe-10a7-4763-9dde-bc26e2970812",
   "metadata": {
    "jp-MarkdownHeadingCollapsed": true
   },
   "source": [
    "##### Index"
   ]
  },
  {
   "cell_type": "code",
   "execution_count": 123,
   "id": "aaa01805-e562-45e8-8a14-29f41695961d",
   "metadata": {},
   "outputs": [
    {
     "data": {
      "text/plain": [
       "RangeIndex(start=0, stop=120823, step=1)"
      ]
     },
     "execution_count": 123,
     "metadata": {},
     "output_type": "execute_result"
    }
   ],
   "source": [
    "gas.index"
   ]
  },
  {
   "cell_type": "code",
   "execution_count": 124,
   "id": "becc5cca-77ec-4e7b-a05d-ce286e6539da",
   "metadata": {},
   "outputs": [],
   "source": [
    "pesquisa_de_satisfacao = pd.DataFrame({\n",
    "    \"bom\": [50, 21, 100],\n",
    "    \"ruim\": [131, 2, 30],\n",
    "    \"pessimo\": [30, 20, 1]\n",
    "}, index=[\"Xbox\", \"PS5\", \"Switch\"])"
   ]
  },
  {
   "cell_type": "code",
   "execution_count": 125,
   "id": "a567253b-8ea6-4a46-85ef-eac37ef6400f",
   "metadata": {},
   "outputs": [
    {
     "data": {
      "text/html": [
       "<div>\n",
       "<style scoped>\n",
       "    .dataframe tbody tr th:only-of-type {\n",
       "        vertical-align: middle;\n",
       "    }\n",
       "\n",
       "    .dataframe tbody tr th {\n",
       "        vertical-align: top;\n",
       "    }\n",
       "\n",
       "    .dataframe thead th {\n",
       "        text-align: right;\n",
       "    }\n",
       "</style>\n",
       "<table border=\"1\" class=\"dataframe\">\n",
       "  <thead>\n",
       "    <tr style=\"text-align: right;\">\n",
       "      <th></th>\n",
       "      <th>bom</th>\n",
       "      <th>ruim</th>\n",
       "      <th>pessimo</th>\n",
       "    </tr>\n",
       "  </thead>\n",
       "  <tbody>\n",
       "    <tr>\n",
       "      <th>Xbox</th>\n",
       "      <td>50</td>\n",
       "      <td>131</td>\n",
       "      <td>30</td>\n",
       "    </tr>\n",
       "    <tr>\n",
       "      <th>PS5</th>\n",
       "      <td>21</td>\n",
       "      <td>2</td>\n",
       "      <td>20</td>\n",
       "    </tr>\n",
       "    <tr>\n",
       "      <th>Switch</th>\n",
       "      <td>100</td>\n",
       "      <td>30</td>\n",
       "      <td>1</td>\n",
       "    </tr>\n",
       "  </tbody>\n",
       "</table>\n",
       "</div>"
      ],
      "text/plain": [
       "        bom  ruim  pessimo\n",
       "Xbox     50   131       30\n",
       "PS5      21     2       20\n",
       "Switch  100    30        1"
      ]
     },
     "execution_count": 125,
     "metadata": {},
     "output_type": "execute_result"
    }
   ],
   "source": [
    "pesquisa_de_satisfacao"
   ]
  },
  {
   "cell_type": "code",
   "execution_count": null,
   "id": "4ce42daa-e8e6-42d8-b9eb-99d842629704",
   "metadata": {},
   "outputs": [],
   "source": [
    "###"
   ]
  },
  {
   "cell_type": "code",
   "execution_count": null,
   "id": "9a1f0b84-3d6f-42af-955a-7e32bb4e13da",
   "metadata": {},
   "outputs": [],
   "source": []
  },
  {
   "cell_type": "code",
   "execution_count": null,
   "id": "776b6d9b-3463-4512-9797-c630fc5b6a09",
   "metadata": {},
   "outputs": [],
   "source": []
  },
  {
   "cell_type": "code",
   "execution_count": null,
   "id": "f4868a9e-338f-4bb8-a8b7-6059c573d7ca",
   "metadata": {},
   "outputs": [],
   "source": []
  },
  {
   "cell_type": "code",
   "execution_count": null,
   "id": "cd2c06d7-91e0-4d32-8971-6ecf777d91c4",
   "metadata": {},
   "outputs": [],
   "source": []
  },
  {
   "cell_type": "code",
   "execution_count": null,
   "id": "de27d8fd-fbf7-40ef-91aa-88fb3882c641",
   "metadata": {},
   "outputs": [],
   "source": []
  },
  {
   "cell_type": "code",
   "execution_count": null,
   "id": "4e2aa648-0694-44a0-9dda-c495c7acf6e5",
   "metadata": {},
   "outputs": [],
   "source": []
  },
  {
   "cell_type": "code",
   "execution_count": null,
   "id": "2b0dcf4e-3db5-4524-89e1-61d2a4b75f73",
   "metadata": {},
   "outputs": [],
   "source": []
  },
  {
   "cell_type": "code",
   "execution_count": null,
   "id": "f10369ea-bc32-45cc-8209-969eff268177",
   "metadata": {},
   "outputs": [],
   "source": []
  },
  {
   "cell_type": "code",
   "execution_count": null,
   "id": "7ee97f5a-a702-4671-bd12-425414d6c4fe",
   "metadata": {},
   "outputs": [],
   "source": []
  },
  {
   "cell_type": "code",
   "execution_count": null,
   "id": "32d47c71-66fa-411e-b8f6-b19ef12556a6",
   "metadata": {},
   "outputs": [],
   "source": []
  },
  {
   "cell_type": "code",
   "execution_count": 67,
   "id": "6e2de973-c73d-4acb-b6df-64ffd86c26bb",
   "metadata": {},
   "outputs": [
    {
     "data": {
      "text/html": [
       "<div>\n",
       "<style scoped>\n",
       "    .dataframe tbody tr th:only-of-type {\n",
       "        vertical-align: middle;\n",
       "    }\n",
       "\n",
       "    .dataframe tbody tr th {\n",
       "        vertical-align: top;\n",
       "    }\n",
       "\n",
       "    .dataframe thead th {\n",
       "        text-align: right;\n",
       "    }\n",
       "</style>\n",
       "<table border=\"1\" class=\"dataframe\">\n",
       "  <thead>\n",
       "    <tr style=\"text-align: right;\">\n",
       "      <th></th>\n",
       "      <th>name</th>\n",
       "      <th>breed</th>\n",
       "      <th>color</th>\n",
       "      <th>height_cm</th>\n",
       "      <th>weight_kg</th>\n",
       "      <th>date_of_birth</th>\n",
       "    </tr>\n",
       "  </thead>\n",
       "  <tbody>\n",
       "    <tr>\n",
       "      <th>0</th>\n",
       "      <td>Bella</td>\n",
       "      <td>Labrador</td>\n",
       "      <td>Brown</td>\n",
       "      <td>56</td>\n",
       "      <td>24</td>\n",
       "      <td>2013-07-01</td>\n",
       "    </tr>\n",
       "    <tr>\n",
       "      <th>1</th>\n",
       "      <td>Charlie</td>\n",
       "      <td>Poodle</td>\n",
       "      <td>Black</td>\n",
       "      <td>43</td>\n",
       "      <td>24</td>\n",
       "      <td>2016-09-16</td>\n",
       "    </tr>\n",
       "    <tr>\n",
       "      <th>2</th>\n",
       "      <td>Lucy</td>\n",
       "      <td>Chow Chow</td>\n",
       "      <td>Brown</td>\n",
       "      <td>46</td>\n",
       "      <td>24</td>\n",
       "      <td>2014-08-25</td>\n",
       "    </tr>\n",
       "    <tr>\n",
       "      <th>3</th>\n",
       "      <td>Cooper</td>\n",
       "      <td>Schnauzer</td>\n",
       "      <td>Gray</td>\n",
       "      <td>49</td>\n",
       "      <td>17</td>\n",
       "      <td>2011-12-11</td>\n",
       "    </tr>\n",
       "    <tr>\n",
       "      <th>4</th>\n",
       "      <td>Max</td>\n",
       "      <td>Labrador</td>\n",
       "      <td>Black</td>\n",
       "      <td>59</td>\n",
       "      <td>29</td>\n",
       "      <td>2017-01-20</td>\n",
       "    </tr>\n",
       "  </tbody>\n",
       "</table>\n",
       "</div>"
      ],
      "text/plain": [
       "      name      breed  color  height_cm  weight_kg date_of_birth\n",
       "0    Bella   Labrador  Brown         56         24    2013-07-01\n",
       "1  Charlie     Poodle  Black         43         24    2016-09-16\n",
       "2     Lucy  Chow Chow  Brown         46         24    2014-08-25\n",
       "3   Cooper  Schnauzer   Gray         49         17    2011-12-11\n",
       "4      Max   Labrador  Black         59         29    2017-01-20"
      ]
     },
     "execution_count": 67,
     "metadata": {},
     "output_type": "execute_result"
    }
   ],
   "source": [
    "dogs_df.head()"
   ]
  },
  {
   "cell_type": "code",
   "execution_count": null,
   "id": "3de46e6d-2649-4ba3-b0a8-35c563dd603a",
   "metadata": {},
   "outputs": [],
   "source": []
  },
  {
   "cell_type": "code",
   "execution_count": null,
   "id": "0e6e7309-454c-450a-b44a-c928bd237fe1",
   "metadata": {},
   "outputs": [],
   "source": []
  },
  {
   "cell_type": "code",
   "execution_count": null,
   "id": "35926dc7-1f39-4dea-a127-905fef434474",
   "metadata": {},
   "outputs": [],
   "source": []
  },
  {
   "cell_type": "code",
   "execution_count": 68,
   "id": "e6dccdf5-ddd4-4ca2-8e0f-bdaefb7df2fc",
   "metadata": {},
   "outputs": [
    {
     "data": {
      "text/html": [
       "<div>\n",
       "<style scoped>\n",
       "    .dataframe tbody tr th:only-of-type {\n",
       "        vertical-align: middle;\n",
       "    }\n",
       "\n",
       "    .dataframe tbody tr th {\n",
       "        vertical-align: top;\n",
       "    }\n",
       "\n",
       "    .dataframe thead th {\n",
       "        text-align: right;\n",
       "    }\n",
       "</style>\n",
       "<table border=\"1\" class=\"dataframe\">\n",
       "  <thead>\n",
       "    <tr style=\"text-align: right;\">\n",
       "      <th></th>\n",
       "      <th>name</th>\n",
       "      <th>breed</th>\n",
       "      <th>color</th>\n",
       "      <th>height_cm</th>\n",
       "      <th>weight_kg</th>\n",
       "      <th>date_of_birth</th>\n",
       "    </tr>\n",
       "  </thead>\n",
       "  <tbody>\n",
       "    <tr>\n",
       "      <th>0</th>\n",
       "      <td>Bella</td>\n",
       "      <td>Labrador</td>\n",
       "      <td>Brown</td>\n",
       "      <td>56</td>\n",
       "      <td>24</td>\n",
       "      <td>2013-07-01</td>\n",
       "    </tr>\n",
       "    <tr>\n",
       "      <th>1</th>\n",
       "      <td>Charlie</td>\n",
       "      <td>Poodle</td>\n",
       "      <td>Black</td>\n",
       "      <td>43</td>\n",
       "      <td>24</td>\n",
       "      <td>2016-09-16</td>\n",
       "    </tr>\n",
       "  </tbody>\n",
       "</table>\n",
       "</div>"
      ],
      "text/plain": [
       "      name     breed  color  height_cm  weight_kg date_of_birth\n",
       "0    Bella  Labrador  Brown         56         24    2013-07-01\n",
       "1  Charlie    Poodle  Black         43         24    2016-09-16"
      ]
     },
     "execution_count": 68,
     "metadata": {},
     "output_type": "execute_result"
    }
   ],
   "source": [
    "dogs_df.head(2)"
   ]
  },
  {
   "cell_type": "code",
   "execution_count": 69,
   "id": "24c91d1b-b586-4bc5-a75e-ba8f9fe44ea3",
   "metadata": {},
   "outputs": [
    {
     "data": {
      "text/html": [
       "<div>\n",
       "<style scoped>\n",
       "    .dataframe tbody tr th:only-of-type {\n",
       "        vertical-align: middle;\n",
       "    }\n",
       "\n",
       "    .dataframe tbody tr th {\n",
       "        vertical-align: top;\n",
       "    }\n",
       "\n",
       "    .dataframe thead th {\n",
       "        text-align: right;\n",
       "    }\n",
       "</style>\n",
       "<table border=\"1\" class=\"dataframe\">\n",
       "  <thead>\n",
       "    <tr style=\"text-align: right;\">\n",
       "      <th></th>\n",
       "      <th>name</th>\n",
       "      <th>breed</th>\n",
       "      <th>color</th>\n",
       "      <th>height_cm</th>\n",
       "      <th>weight_kg</th>\n",
       "      <th>date_of_birth</th>\n",
       "    </tr>\n",
       "  </thead>\n",
       "  <tbody>\n",
       "    <tr>\n",
       "      <th>2</th>\n",
       "      <td>Lucy</td>\n",
       "      <td>Chow Chow</td>\n",
       "      <td>Brown</td>\n",
       "      <td>46</td>\n",
       "      <td>24</td>\n",
       "      <td>2014-08-25</td>\n",
       "    </tr>\n",
       "    <tr>\n",
       "      <th>3</th>\n",
       "      <td>Cooper</td>\n",
       "      <td>Schnauzer</td>\n",
       "      <td>Gray</td>\n",
       "      <td>49</td>\n",
       "      <td>17</td>\n",
       "      <td>2011-12-11</td>\n",
       "    </tr>\n",
       "    <tr>\n",
       "      <th>4</th>\n",
       "      <td>Max</td>\n",
       "      <td>Labrador</td>\n",
       "      <td>Black</td>\n",
       "      <td>59</td>\n",
       "      <td>29</td>\n",
       "      <td>2017-01-20</td>\n",
       "    </tr>\n",
       "    <tr>\n",
       "      <th>5</th>\n",
       "      <td>Stella</td>\n",
       "      <td>Chihuahua</td>\n",
       "      <td>Tan</td>\n",
       "      <td>18</td>\n",
       "      <td>2</td>\n",
       "      <td>2015-04-20</td>\n",
       "    </tr>\n",
       "    <tr>\n",
       "      <th>6</th>\n",
       "      <td>Bernie</td>\n",
       "      <td>St. Bernard</td>\n",
       "      <td>White</td>\n",
       "      <td>77</td>\n",
       "      <td>74</td>\n",
       "      <td>2018-02-27</td>\n",
       "    </tr>\n",
       "  </tbody>\n",
       "</table>\n",
       "</div>"
      ],
      "text/plain": [
       "     name        breed  color  height_cm  weight_kg date_of_birth\n",
       "2    Lucy    Chow Chow  Brown         46         24    2014-08-25\n",
       "3  Cooper    Schnauzer   Gray         49         17    2011-12-11\n",
       "4     Max     Labrador  Black         59         29    2017-01-20\n",
       "5  Stella    Chihuahua    Tan         18          2    2015-04-20\n",
       "6  Bernie  St. Bernard  White         77         74    2018-02-27"
      ]
     },
     "execution_count": 69,
     "metadata": {},
     "output_type": "execute_result"
    }
   ],
   "source": [
    "dogs_df.tail()"
   ]
  },
  {
   "cell_type": "code",
   "execution_count": 70,
   "id": "cc41a652-98a9-40a2-9f3c-3ae5dec151be",
   "metadata": {},
   "outputs": [
    {
     "data": {
      "text/html": [
       "<div>\n",
       "<style scoped>\n",
       "    .dataframe tbody tr th:only-of-type {\n",
       "        vertical-align: middle;\n",
       "    }\n",
       "\n",
       "    .dataframe tbody tr th {\n",
       "        vertical-align: top;\n",
       "    }\n",
       "\n",
       "    .dataframe thead th {\n",
       "        text-align: right;\n",
       "    }\n",
       "</style>\n",
       "<table border=\"1\" class=\"dataframe\">\n",
       "  <thead>\n",
       "    <tr style=\"text-align: right;\">\n",
       "      <th></th>\n",
       "      <th>name</th>\n",
       "      <th>breed</th>\n",
       "      <th>color</th>\n",
       "      <th>height_cm</th>\n",
       "      <th>weight_kg</th>\n",
       "      <th>date_of_birth</th>\n",
       "    </tr>\n",
       "  </thead>\n",
       "  <tbody>\n",
       "    <tr>\n",
       "      <th>5</th>\n",
       "      <td>Stella</td>\n",
       "      <td>Chihuahua</td>\n",
       "      <td>Tan</td>\n",
       "      <td>18</td>\n",
       "      <td>2</td>\n",
       "      <td>2015-04-20</td>\n",
       "    </tr>\n",
       "    <tr>\n",
       "      <th>6</th>\n",
       "      <td>Bernie</td>\n",
       "      <td>St. Bernard</td>\n",
       "      <td>White</td>\n",
       "      <td>77</td>\n",
       "      <td>74</td>\n",
       "      <td>2018-02-27</td>\n",
       "    </tr>\n",
       "  </tbody>\n",
       "</table>\n",
       "</div>"
      ],
      "text/plain": [
       "     name        breed  color  height_cm  weight_kg date_of_birth\n",
       "5  Stella    Chihuahua    Tan         18          2    2015-04-20\n",
       "6  Bernie  St. Bernard  White         77         74    2018-02-27"
      ]
     },
     "execution_count": 70,
     "metadata": {},
     "output_type": "execute_result"
    }
   ],
   "source": [
    "dogs_df.tail(2)"
   ]
  },
  {
   "cell_type": "code",
   "execution_count": 71,
   "id": "73415585-1558-44fd-b778-560de8675e2b",
   "metadata": {},
   "outputs": [
    {
     "name": "stdout",
     "output_type": "stream",
     "text": [
      "<class 'pandas.core.frame.DataFrame'>\n",
      "RangeIndex: 7 entries, 0 to 6\n",
      "Data columns (total 6 columns):\n",
      " #   Column         Non-Null Count  Dtype \n",
      "---  ------         --------------  ----- \n",
      " 0   name           7 non-null      object\n",
      " 1   breed          7 non-null      object\n",
      " 2   color          7 non-null      object\n",
      " 3   height_cm      7 non-null      int64 \n",
      " 4   weight_kg      7 non-null      int64 \n",
      " 5   date_of_birth  7 non-null      object\n",
      "dtypes: int64(2), object(4)\n",
      "memory usage: 464.0+ bytes\n"
     ]
    }
   ],
   "source": [
    "dogs_df.info()"
   ]
  },
  {
   "cell_type": "code",
   "execution_count": 72,
   "id": "367d7edf-0ca2-4829-ab74-993019597211",
   "metadata": {},
   "outputs": [
    {
     "data": {
      "text/plain": [
       "(7, 6)"
      ]
     },
     "execution_count": 72,
     "metadata": {},
     "output_type": "execute_result"
    }
   ],
   "source": [
    "dogs_df.shape"
   ]
  },
  {
   "cell_type": "code",
   "execution_count": 73,
   "id": "e07e233b-30e2-4163-8eb6-8bba3679843a",
   "metadata": {},
   "outputs": [
    {
     "data": {
      "text/html": [
       "<div>\n",
       "<style scoped>\n",
       "    .dataframe tbody tr th:only-of-type {\n",
       "        vertical-align: middle;\n",
       "    }\n",
       "\n",
       "    .dataframe tbody tr th {\n",
       "        vertical-align: top;\n",
       "    }\n",
       "\n",
       "    .dataframe thead th {\n",
       "        text-align: right;\n",
       "    }\n",
       "</style>\n",
       "<table border=\"1\" class=\"dataframe\">\n",
       "  <thead>\n",
       "    <tr style=\"text-align: right;\">\n",
       "      <th></th>\n",
       "      <th>height_cm</th>\n",
       "      <th>weight_kg</th>\n",
       "    </tr>\n",
       "  </thead>\n",
       "  <tbody>\n",
       "    <tr>\n",
       "      <th>count</th>\n",
       "      <td>7.000000</td>\n",
       "      <td>7.000000</td>\n",
       "    </tr>\n",
       "    <tr>\n",
       "      <th>mean</th>\n",
       "      <td>49.714286</td>\n",
       "      <td>27.714286</td>\n",
       "    </tr>\n",
       "    <tr>\n",
       "      <th>std</th>\n",
       "      <td>17.960274</td>\n",
       "      <td>22.216468</td>\n",
       "    </tr>\n",
       "    <tr>\n",
       "      <th>min</th>\n",
       "      <td>18.000000</td>\n",
       "      <td>2.000000</td>\n",
       "    </tr>\n",
       "    <tr>\n",
       "      <th>25%</th>\n",
       "      <td>44.500000</td>\n",
       "      <td>20.500000</td>\n",
       "    </tr>\n",
       "    <tr>\n",
       "      <th>50%</th>\n",
       "      <td>49.000000</td>\n",
       "      <td>24.000000</td>\n",
       "    </tr>\n",
       "    <tr>\n",
       "      <th>75%</th>\n",
       "      <td>57.500000</td>\n",
       "      <td>26.500000</td>\n",
       "    </tr>\n",
       "    <tr>\n",
       "      <th>max</th>\n",
       "      <td>77.000000</td>\n",
       "      <td>74.000000</td>\n",
       "    </tr>\n",
       "  </tbody>\n",
       "</table>\n",
       "</div>"
      ],
      "text/plain": [
       "       height_cm  weight_kg\n",
       "count   7.000000   7.000000\n",
       "mean   49.714286  27.714286\n",
       "std    17.960274  22.216468\n",
       "min    18.000000   2.000000\n",
       "25%    44.500000  20.500000\n",
       "50%    49.000000  24.000000\n",
       "75%    57.500000  26.500000\n",
       "max    77.000000  74.000000"
      ]
     },
     "execution_count": 73,
     "metadata": {},
     "output_type": "execute_result"
    }
   ],
   "source": [
    "dogs_df.describe()"
   ]
  },
  {
   "cell_type": "markdown",
   "id": "ef2d5970-95e0-46de-9f45-9f4cca14f58a",
   "metadata": {},
   "source": [
    "dogs_df.values"
   ]
  },
  {
   "cell_type": "code",
   "execution_count": 75,
   "id": "58ef142d-c6af-4f96-9431-c179b62cfc4f",
   "metadata": {},
   "outputs": [
    {
     "data": {
      "text/plain": [
       "Index(['name', 'breed', 'color', 'height_cm', 'weight_kg', 'date_of_birth'], dtype='object')"
      ]
     },
     "execution_count": 75,
     "metadata": {},
     "output_type": "execute_result"
    }
   ],
   "source": [
    "dogs_df.columns"
   ]
  },
  {
   "cell_type": "code",
   "execution_count": 76,
   "id": "48e5aab6-8b32-4075-a702-df439dff4ee9",
   "metadata": {},
   "outputs": [
    {
     "data": {
      "text/plain": [
       "RangeIndex(start=0, stop=7, step=1)"
      ]
     },
     "execution_count": 76,
     "metadata": {},
     "output_type": "execute_result"
    }
   ],
   "source": [
    "dogs_df.index"
   ]
  },
  {
   "cell_type": "markdown",
   "id": "1d8f8b6b-8f1a-46fe-b1cf-f736e0d578c5",
   "metadata": {
    "jp-MarkdownHeadingCollapsed": true
   },
   "source": [
    "### Sorting and Subsetting"
   ]
  },
  {
   "cell_type": "markdown",
   "id": "766cdc28-b74c-481c-9cfc-7f78c0ac37d2",
   "metadata": {
    "jp-MarkdownHeadingCollapsed": true
   },
   "source": [
    "#### Sorting"
   ]
  },
  {
   "cell_type": "code",
   "execution_count": 77,
   "id": "f216cd06-43a5-4c65-9150-c41e94fce122",
   "metadata": {},
   "outputs": [
    {
     "data": {
      "text/html": [
       "<div>\n",
       "<style scoped>\n",
       "    .dataframe tbody tr th:only-of-type {\n",
       "        vertical-align: middle;\n",
       "    }\n",
       "\n",
       "    .dataframe tbody tr th {\n",
       "        vertical-align: top;\n",
       "    }\n",
       "\n",
       "    .dataframe thead th {\n",
       "        text-align: right;\n",
       "    }\n",
       "</style>\n",
       "<table border=\"1\" class=\"dataframe\">\n",
       "  <thead>\n",
       "    <tr style=\"text-align: right;\">\n",
       "      <th></th>\n",
       "      <th>name</th>\n",
       "      <th>breed</th>\n",
       "      <th>color</th>\n",
       "      <th>height_cm</th>\n",
       "      <th>weight_kg</th>\n",
       "      <th>date_of_birth</th>\n",
       "    </tr>\n",
       "  </thead>\n",
       "  <tbody>\n",
       "    <tr>\n",
       "      <th>5</th>\n",
       "      <td>Stella</td>\n",
       "      <td>Chihuahua</td>\n",
       "      <td>Tan</td>\n",
       "      <td>18</td>\n",
       "      <td>2</td>\n",
       "      <td>2015-04-20</td>\n",
       "    </tr>\n",
       "    <tr>\n",
       "      <th>3</th>\n",
       "      <td>Cooper</td>\n",
       "      <td>Schnauzer</td>\n",
       "      <td>Gray</td>\n",
       "      <td>49</td>\n",
       "      <td>17</td>\n",
       "      <td>2011-12-11</td>\n",
       "    </tr>\n",
       "    <tr>\n",
       "      <th>0</th>\n",
       "      <td>Bella</td>\n",
       "      <td>Labrador</td>\n",
       "      <td>Brown</td>\n",
       "      <td>56</td>\n",
       "      <td>24</td>\n",
       "      <td>2013-07-01</td>\n",
       "    </tr>\n",
       "    <tr>\n",
       "      <th>1</th>\n",
       "      <td>Charlie</td>\n",
       "      <td>Poodle</td>\n",
       "      <td>Black</td>\n",
       "      <td>43</td>\n",
       "      <td>24</td>\n",
       "      <td>2016-09-16</td>\n",
       "    </tr>\n",
       "    <tr>\n",
       "      <th>2</th>\n",
       "      <td>Lucy</td>\n",
       "      <td>Chow Chow</td>\n",
       "      <td>Brown</td>\n",
       "      <td>46</td>\n",
       "      <td>24</td>\n",
       "      <td>2014-08-25</td>\n",
       "    </tr>\n",
       "    <tr>\n",
       "      <th>4</th>\n",
       "      <td>Max</td>\n",
       "      <td>Labrador</td>\n",
       "      <td>Black</td>\n",
       "      <td>59</td>\n",
       "      <td>29</td>\n",
       "      <td>2017-01-20</td>\n",
       "    </tr>\n",
       "    <tr>\n",
       "      <th>6</th>\n",
       "      <td>Bernie</td>\n",
       "      <td>St. Bernard</td>\n",
       "      <td>White</td>\n",
       "      <td>77</td>\n",
       "      <td>74</td>\n",
       "      <td>2018-02-27</td>\n",
       "    </tr>\n",
       "  </tbody>\n",
       "</table>\n",
       "</div>"
      ],
      "text/plain": [
       "      name        breed  color  height_cm  weight_kg date_of_birth\n",
       "5   Stella    Chihuahua    Tan         18          2    2015-04-20\n",
       "3   Cooper    Schnauzer   Gray         49         17    2011-12-11\n",
       "0    Bella     Labrador  Brown         56         24    2013-07-01\n",
       "1  Charlie       Poodle  Black         43         24    2016-09-16\n",
       "2     Lucy    Chow Chow  Brown         46         24    2014-08-25\n",
       "4      Max     Labrador  Black         59         29    2017-01-20\n",
       "6   Bernie  St. Bernard  White         77         74    2018-02-27"
      ]
     },
     "execution_count": 77,
     "metadata": {},
     "output_type": "execute_result"
    }
   ],
   "source": [
    "dogs_df.sort_values(\"weight_kg\")"
   ]
  },
  {
   "cell_type": "code",
   "execution_count": 78,
   "id": "e00b1ee7-45fa-46a1-b347-e8158bea63fd",
   "metadata": {},
   "outputs": [
    {
     "data": {
      "text/html": [
       "<div>\n",
       "<style scoped>\n",
       "    .dataframe tbody tr th:only-of-type {\n",
       "        vertical-align: middle;\n",
       "    }\n",
       "\n",
       "    .dataframe tbody tr th {\n",
       "        vertical-align: top;\n",
       "    }\n",
       "\n",
       "    .dataframe thead th {\n",
       "        text-align: right;\n",
       "    }\n",
       "</style>\n",
       "<table border=\"1\" class=\"dataframe\">\n",
       "  <thead>\n",
       "    <tr style=\"text-align: right;\">\n",
       "      <th></th>\n",
       "      <th>name</th>\n",
       "      <th>breed</th>\n",
       "      <th>color</th>\n",
       "      <th>height_cm</th>\n",
       "      <th>weight_kg</th>\n",
       "      <th>date_of_birth</th>\n",
       "    </tr>\n",
       "  </thead>\n",
       "  <tbody>\n",
       "    <tr>\n",
       "      <th>6</th>\n",
       "      <td>Bernie</td>\n",
       "      <td>St. Bernard</td>\n",
       "      <td>White</td>\n",
       "      <td>77</td>\n",
       "      <td>74</td>\n",
       "      <td>2018-02-27</td>\n",
       "    </tr>\n",
       "    <tr>\n",
       "      <th>4</th>\n",
       "      <td>Max</td>\n",
       "      <td>Labrador</td>\n",
       "      <td>Black</td>\n",
       "      <td>59</td>\n",
       "      <td>29</td>\n",
       "      <td>2017-01-20</td>\n",
       "    </tr>\n",
       "    <tr>\n",
       "      <th>0</th>\n",
       "      <td>Bella</td>\n",
       "      <td>Labrador</td>\n",
       "      <td>Brown</td>\n",
       "      <td>56</td>\n",
       "      <td>24</td>\n",
       "      <td>2013-07-01</td>\n",
       "    </tr>\n",
       "    <tr>\n",
       "      <th>1</th>\n",
       "      <td>Charlie</td>\n",
       "      <td>Poodle</td>\n",
       "      <td>Black</td>\n",
       "      <td>43</td>\n",
       "      <td>24</td>\n",
       "      <td>2016-09-16</td>\n",
       "    </tr>\n",
       "    <tr>\n",
       "      <th>2</th>\n",
       "      <td>Lucy</td>\n",
       "      <td>Chow Chow</td>\n",
       "      <td>Brown</td>\n",
       "      <td>46</td>\n",
       "      <td>24</td>\n",
       "      <td>2014-08-25</td>\n",
       "    </tr>\n",
       "    <tr>\n",
       "      <th>3</th>\n",
       "      <td>Cooper</td>\n",
       "      <td>Schnauzer</td>\n",
       "      <td>Gray</td>\n",
       "      <td>49</td>\n",
       "      <td>17</td>\n",
       "      <td>2011-12-11</td>\n",
       "    </tr>\n",
       "    <tr>\n",
       "      <th>5</th>\n",
       "      <td>Stella</td>\n",
       "      <td>Chihuahua</td>\n",
       "      <td>Tan</td>\n",
       "      <td>18</td>\n",
       "      <td>2</td>\n",
       "      <td>2015-04-20</td>\n",
       "    </tr>\n",
       "  </tbody>\n",
       "</table>\n",
       "</div>"
      ],
      "text/plain": [
       "      name        breed  color  height_cm  weight_kg date_of_birth\n",
       "6   Bernie  St. Bernard  White         77         74    2018-02-27\n",
       "4      Max     Labrador  Black         59         29    2017-01-20\n",
       "0    Bella     Labrador  Brown         56         24    2013-07-01\n",
       "1  Charlie       Poodle  Black         43         24    2016-09-16\n",
       "2     Lucy    Chow Chow  Brown         46         24    2014-08-25\n",
       "3   Cooper    Schnauzer   Gray         49         17    2011-12-11\n",
       "5   Stella    Chihuahua    Tan         18          2    2015-04-20"
      ]
     },
     "execution_count": 78,
     "metadata": {},
     "output_type": "execute_result"
    }
   ],
   "source": [
    "dogs_df.sort_values(\"weight_kg\", ascending=False)"
   ]
  },
  {
   "cell_type": "code",
   "execution_count": 79,
   "id": "f44e7cde-a184-471d-927b-66d399a096b7",
   "metadata": {},
   "outputs": [
    {
     "data": {
      "text/html": [
       "<div>\n",
       "<style scoped>\n",
       "    .dataframe tbody tr th:only-of-type {\n",
       "        vertical-align: middle;\n",
       "    }\n",
       "\n",
       "    .dataframe tbody tr th {\n",
       "        vertical-align: top;\n",
       "    }\n",
       "\n",
       "    .dataframe thead th {\n",
       "        text-align: right;\n",
       "    }\n",
       "</style>\n",
       "<table border=\"1\" class=\"dataframe\">\n",
       "  <thead>\n",
       "    <tr style=\"text-align: right;\">\n",
       "      <th></th>\n",
       "      <th>name</th>\n",
       "      <th>breed</th>\n",
       "      <th>color</th>\n",
       "      <th>height_cm</th>\n",
       "      <th>weight_kg</th>\n",
       "      <th>date_of_birth</th>\n",
       "    </tr>\n",
       "  </thead>\n",
       "  <tbody>\n",
       "    <tr>\n",
       "      <th>5</th>\n",
       "      <td>Stella</td>\n",
       "      <td>Chihuahua</td>\n",
       "      <td>Tan</td>\n",
       "      <td>18</td>\n",
       "      <td>2</td>\n",
       "      <td>2015-04-20</td>\n",
       "    </tr>\n",
       "    <tr>\n",
       "      <th>3</th>\n",
       "      <td>Cooper</td>\n",
       "      <td>Schnauzer</td>\n",
       "      <td>Gray</td>\n",
       "      <td>49</td>\n",
       "      <td>17</td>\n",
       "      <td>2011-12-11</td>\n",
       "    </tr>\n",
       "    <tr>\n",
       "      <th>1</th>\n",
       "      <td>Charlie</td>\n",
       "      <td>Poodle</td>\n",
       "      <td>Black</td>\n",
       "      <td>43</td>\n",
       "      <td>24</td>\n",
       "      <td>2016-09-16</td>\n",
       "    </tr>\n",
       "    <tr>\n",
       "      <th>2</th>\n",
       "      <td>Lucy</td>\n",
       "      <td>Chow Chow</td>\n",
       "      <td>Brown</td>\n",
       "      <td>46</td>\n",
       "      <td>24</td>\n",
       "      <td>2014-08-25</td>\n",
       "    </tr>\n",
       "    <tr>\n",
       "      <th>0</th>\n",
       "      <td>Bella</td>\n",
       "      <td>Labrador</td>\n",
       "      <td>Brown</td>\n",
       "      <td>56</td>\n",
       "      <td>24</td>\n",
       "      <td>2013-07-01</td>\n",
       "    </tr>\n",
       "    <tr>\n",
       "      <th>4</th>\n",
       "      <td>Max</td>\n",
       "      <td>Labrador</td>\n",
       "      <td>Black</td>\n",
       "      <td>59</td>\n",
       "      <td>29</td>\n",
       "      <td>2017-01-20</td>\n",
       "    </tr>\n",
       "    <tr>\n",
       "      <th>6</th>\n",
       "      <td>Bernie</td>\n",
       "      <td>St. Bernard</td>\n",
       "      <td>White</td>\n",
       "      <td>77</td>\n",
       "      <td>74</td>\n",
       "      <td>2018-02-27</td>\n",
       "    </tr>\n",
       "  </tbody>\n",
       "</table>\n",
       "</div>"
      ],
      "text/plain": [
       "      name        breed  color  height_cm  weight_kg date_of_birth\n",
       "5   Stella    Chihuahua    Tan         18          2    2015-04-20\n",
       "3   Cooper    Schnauzer   Gray         49         17    2011-12-11\n",
       "1  Charlie       Poodle  Black         43         24    2016-09-16\n",
       "2     Lucy    Chow Chow  Brown         46         24    2014-08-25\n",
       "0    Bella     Labrador  Brown         56         24    2013-07-01\n",
       "4      Max     Labrador  Black         59         29    2017-01-20\n",
       "6   Bernie  St. Bernard  White         77         74    2018-02-27"
      ]
     },
     "execution_count": 79,
     "metadata": {},
     "output_type": "execute_result"
    }
   ],
   "source": [
    "dogs_df.sort_values([\"weight_kg\", \"height_cm\"])"
   ]
  },
  {
   "cell_type": "code",
   "execution_count": 80,
   "id": "eb15b309-ffc0-4450-94ab-9277fd136f4e",
   "metadata": {},
   "outputs": [
    {
     "data": {
      "text/html": [
       "<div>\n",
       "<style scoped>\n",
       "    .dataframe tbody tr th:only-of-type {\n",
       "        vertical-align: middle;\n",
       "    }\n",
       "\n",
       "    .dataframe tbody tr th {\n",
       "        vertical-align: top;\n",
       "    }\n",
       "\n",
       "    .dataframe thead th {\n",
       "        text-align: right;\n",
       "    }\n",
       "</style>\n",
       "<table border=\"1\" class=\"dataframe\">\n",
       "  <thead>\n",
       "    <tr style=\"text-align: right;\">\n",
       "      <th></th>\n",
       "      <th>name</th>\n",
       "      <th>breed</th>\n",
       "      <th>color</th>\n",
       "      <th>height_cm</th>\n",
       "      <th>weight_kg</th>\n",
       "      <th>date_of_birth</th>\n",
       "    </tr>\n",
       "  </thead>\n",
       "  <tbody>\n",
       "    <tr>\n",
       "      <th>5</th>\n",
       "      <td>Stella</td>\n",
       "      <td>Chihuahua</td>\n",
       "      <td>Tan</td>\n",
       "      <td>18</td>\n",
       "      <td>2</td>\n",
       "      <td>2015-04-20</td>\n",
       "    </tr>\n",
       "    <tr>\n",
       "      <th>3</th>\n",
       "      <td>Cooper</td>\n",
       "      <td>Schnauzer</td>\n",
       "      <td>Gray</td>\n",
       "      <td>49</td>\n",
       "      <td>17</td>\n",
       "      <td>2011-12-11</td>\n",
       "    </tr>\n",
       "    <tr>\n",
       "      <th>0</th>\n",
       "      <td>Bella</td>\n",
       "      <td>Labrador</td>\n",
       "      <td>Brown</td>\n",
       "      <td>56</td>\n",
       "      <td>24</td>\n",
       "      <td>2013-07-01</td>\n",
       "    </tr>\n",
       "    <tr>\n",
       "      <th>2</th>\n",
       "      <td>Lucy</td>\n",
       "      <td>Chow Chow</td>\n",
       "      <td>Brown</td>\n",
       "      <td>46</td>\n",
       "      <td>24</td>\n",
       "      <td>2014-08-25</td>\n",
       "    </tr>\n",
       "    <tr>\n",
       "      <th>1</th>\n",
       "      <td>Charlie</td>\n",
       "      <td>Poodle</td>\n",
       "      <td>Black</td>\n",
       "      <td>43</td>\n",
       "      <td>24</td>\n",
       "      <td>2016-09-16</td>\n",
       "    </tr>\n",
       "    <tr>\n",
       "      <th>4</th>\n",
       "      <td>Max</td>\n",
       "      <td>Labrador</td>\n",
       "      <td>Black</td>\n",
       "      <td>59</td>\n",
       "      <td>29</td>\n",
       "      <td>2017-01-20</td>\n",
       "    </tr>\n",
       "    <tr>\n",
       "      <th>6</th>\n",
       "      <td>Bernie</td>\n",
       "      <td>St. Bernard</td>\n",
       "      <td>White</td>\n",
       "      <td>77</td>\n",
       "      <td>74</td>\n",
       "      <td>2018-02-27</td>\n",
       "    </tr>\n",
       "  </tbody>\n",
       "</table>\n",
       "</div>"
      ],
      "text/plain": [
       "      name        breed  color  height_cm  weight_kg date_of_birth\n",
       "5   Stella    Chihuahua    Tan         18          2    2015-04-20\n",
       "3   Cooper    Schnauzer   Gray         49         17    2011-12-11\n",
       "0    Bella     Labrador  Brown         56         24    2013-07-01\n",
       "2     Lucy    Chow Chow  Brown         46         24    2014-08-25\n",
       "1  Charlie       Poodle  Black         43         24    2016-09-16\n",
       "4      Max     Labrador  Black         59         29    2017-01-20\n",
       "6   Bernie  St. Bernard  White         77         74    2018-02-27"
      ]
     },
     "execution_count": 80,
     "metadata": {},
     "output_type": "execute_result"
    }
   ],
   "source": [
    "dogs_df.sort_values([\"weight_kg\", \"height_cm\"], ascending=[True, False])"
   ]
  },
  {
   "cell_type": "markdown",
   "id": "dd568860-0c2f-4aa0-9431-ab7486101760",
   "metadata": {
    "jp-MarkdownHeadingCollapsed": true
   },
   "source": [
    "#### Subsetting Columns"
   ]
  },
  {
   "cell_type": "code",
   "execution_count": 81,
   "id": "fcc5a729-ed81-4e23-9760-b411c162c2d0",
   "metadata": {},
   "outputs": [
    {
     "data": {
      "text/plain": [
       "0      Bella\n",
       "1    Charlie\n",
       "2       Lucy\n",
       "3     Cooper\n",
       "4        Max\n",
       "5     Stella\n",
       "6     Bernie\n",
       "Name: name, dtype: object"
      ]
     },
     "execution_count": 81,
     "metadata": {},
     "output_type": "execute_result"
    }
   ],
   "source": [
    "dogs_df[\"name\"]"
   ]
  },
  {
   "cell_type": "code",
   "execution_count": 82,
   "id": "c7035c19-bb1e-4de1-90ff-2879e7a03bc8",
   "metadata": {},
   "outputs": [
    {
     "data": {
      "text/html": [
       "<div>\n",
       "<style scoped>\n",
       "    .dataframe tbody tr th:only-of-type {\n",
       "        vertical-align: middle;\n",
       "    }\n",
       "\n",
       "    .dataframe tbody tr th {\n",
       "        vertical-align: top;\n",
       "    }\n",
       "\n",
       "    .dataframe thead th {\n",
       "        text-align: right;\n",
       "    }\n",
       "</style>\n",
       "<table border=\"1\" class=\"dataframe\">\n",
       "  <thead>\n",
       "    <tr style=\"text-align: right;\">\n",
       "      <th></th>\n",
       "      <th>breed</th>\n",
       "      <th>height_cm</th>\n",
       "    </tr>\n",
       "  </thead>\n",
       "  <tbody>\n",
       "    <tr>\n",
       "      <th>0</th>\n",
       "      <td>Labrador</td>\n",
       "      <td>56</td>\n",
       "    </tr>\n",
       "    <tr>\n",
       "      <th>1</th>\n",
       "      <td>Poodle</td>\n",
       "      <td>43</td>\n",
       "    </tr>\n",
       "    <tr>\n",
       "      <th>2</th>\n",
       "      <td>Chow Chow</td>\n",
       "      <td>46</td>\n",
       "    </tr>\n",
       "    <tr>\n",
       "      <th>3</th>\n",
       "      <td>Schnauzer</td>\n",
       "      <td>49</td>\n",
       "    </tr>\n",
       "    <tr>\n",
       "      <th>4</th>\n",
       "      <td>Labrador</td>\n",
       "      <td>59</td>\n",
       "    </tr>\n",
       "    <tr>\n",
       "      <th>5</th>\n",
       "      <td>Chihuahua</td>\n",
       "      <td>18</td>\n",
       "    </tr>\n",
       "    <tr>\n",
       "      <th>6</th>\n",
       "      <td>St. Bernard</td>\n",
       "      <td>77</td>\n",
       "    </tr>\n",
       "  </tbody>\n",
       "</table>\n",
       "</div>"
      ],
      "text/plain": [
       "         breed  height_cm\n",
       "0     Labrador         56\n",
       "1       Poodle         43\n",
       "2    Chow Chow         46\n",
       "3    Schnauzer         49\n",
       "4     Labrador         59\n",
       "5    Chihuahua         18\n",
       "6  St. Bernard         77"
      ]
     },
     "execution_count": 82,
     "metadata": {},
     "output_type": "execute_result"
    }
   ],
   "source": [
    "cols_to_subset = [\"breed\", \"height_cm\"]\n",
    "dogs_df[cols_to_subset]"
   ]
  },
  {
   "cell_type": "markdown",
   "id": "58f6426f-3e0e-473b-b075-4edce9599a73",
   "metadata": {
    "jp-MarkdownHeadingCollapsed": true
   },
   "source": [
    "#### Subsetting Rows"
   ]
  },
  {
   "cell_type": "code",
   "execution_count": 83,
   "id": "11d83c8e-b8d3-4d9c-81bd-89edf002b534",
   "metadata": {},
   "outputs": [
    {
     "data": {
      "text/plain": [
       "0     True\n",
       "1    False\n",
       "2    False\n",
       "3    False\n",
       "4     True\n",
       "5    False\n",
       "6     True\n",
       "Name: height_cm, dtype: bool"
      ]
     },
     "execution_count": 83,
     "metadata": {},
     "output_type": "execute_result"
    }
   ],
   "source": [
    "dogs_df[\"height_cm\"] > 50"
   ]
  },
  {
   "cell_type": "code",
   "execution_count": 84,
   "id": "9e897b1b-8b0f-448a-98cc-ecd31ea65a3a",
   "metadata": {},
   "outputs": [
    {
     "data": {
      "text/html": [
       "<div>\n",
       "<style scoped>\n",
       "    .dataframe tbody tr th:only-of-type {\n",
       "        vertical-align: middle;\n",
       "    }\n",
       "\n",
       "    .dataframe tbody tr th {\n",
       "        vertical-align: top;\n",
       "    }\n",
       "\n",
       "    .dataframe thead th {\n",
       "        text-align: right;\n",
       "    }\n",
       "</style>\n",
       "<table border=\"1\" class=\"dataframe\">\n",
       "  <thead>\n",
       "    <tr style=\"text-align: right;\">\n",
       "      <th></th>\n",
       "      <th>name</th>\n",
       "      <th>breed</th>\n",
       "      <th>color</th>\n",
       "      <th>height_cm</th>\n",
       "      <th>weight_kg</th>\n",
       "      <th>date_of_birth</th>\n",
       "    </tr>\n",
       "  </thead>\n",
       "  <tbody>\n",
       "    <tr>\n",
       "      <th>0</th>\n",
       "      <td>Bella</td>\n",
       "      <td>Labrador</td>\n",
       "      <td>Brown</td>\n",
       "      <td>56</td>\n",
       "      <td>24</td>\n",
       "      <td>2013-07-01</td>\n",
       "    </tr>\n",
       "    <tr>\n",
       "      <th>4</th>\n",
       "      <td>Max</td>\n",
       "      <td>Labrador</td>\n",
       "      <td>Black</td>\n",
       "      <td>59</td>\n",
       "      <td>29</td>\n",
       "      <td>2017-01-20</td>\n",
       "    </tr>\n",
       "    <tr>\n",
       "      <th>6</th>\n",
       "      <td>Bernie</td>\n",
       "      <td>St. Bernard</td>\n",
       "      <td>White</td>\n",
       "      <td>77</td>\n",
       "      <td>74</td>\n",
       "      <td>2018-02-27</td>\n",
       "    </tr>\n",
       "  </tbody>\n",
       "</table>\n",
       "</div>"
      ],
      "text/plain": [
       "     name        breed  color  height_cm  weight_kg date_of_birth\n",
       "0   Bella     Labrador  Brown         56         24    2013-07-01\n",
       "4     Max     Labrador  Black         59         29    2017-01-20\n",
       "6  Bernie  St. Bernard  White         77         74    2018-02-27"
      ]
     },
     "execution_count": 84,
     "metadata": {},
     "output_type": "execute_result"
    }
   ],
   "source": [
    "bigger_dogs = dogs_df[\"height_cm\"] > 50\n",
    "\n",
    "dogs_df[bigger_dogs]"
   ]
  },
  {
   "cell_type": "code",
   "execution_count": 85,
   "id": "fa3e1dda-036e-461b-8ea5-5f78deb3b60f",
   "metadata": {},
   "outputs": [
    {
     "data": {
      "text/html": [
       "<div>\n",
       "<style scoped>\n",
       "    .dataframe tbody tr th:only-of-type {\n",
       "        vertical-align: middle;\n",
       "    }\n",
       "\n",
       "    .dataframe tbody tr th {\n",
       "        vertical-align: top;\n",
       "    }\n",
       "\n",
       "    .dataframe thead th {\n",
       "        text-align: right;\n",
       "    }\n",
       "</style>\n",
       "<table border=\"1\" class=\"dataframe\">\n",
       "  <thead>\n",
       "    <tr style=\"text-align: right;\">\n",
       "      <th></th>\n",
       "      <th>name</th>\n",
       "      <th>breed</th>\n",
       "      <th>color</th>\n",
       "      <th>height_cm</th>\n",
       "      <th>weight_kg</th>\n",
       "      <th>date_of_birth</th>\n",
       "    </tr>\n",
       "  </thead>\n",
       "  <tbody>\n",
       "    <tr>\n",
       "      <th>0</th>\n",
       "      <td>Bella</td>\n",
       "      <td>Labrador</td>\n",
       "      <td>Brown</td>\n",
       "      <td>56</td>\n",
       "      <td>24</td>\n",
       "      <td>2013-07-01</td>\n",
       "    </tr>\n",
       "    <tr>\n",
       "      <th>4</th>\n",
       "      <td>Max</td>\n",
       "      <td>Labrador</td>\n",
       "      <td>Black</td>\n",
       "      <td>59</td>\n",
       "      <td>29</td>\n",
       "      <td>2017-01-20</td>\n",
       "    </tr>\n",
       "  </tbody>\n",
       "</table>\n",
       "</div>"
      ],
      "text/plain": [
       "    name     breed  color  height_cm  weight_kg date_of_birth\n",
       "0  Bella  Labrador  Brown         56         24    2013-07-01\n",
       "4    Max  Labrador  Black         59         29    2017-01-20"
      ]
     },
     "execution_count": 85,
     "metadata": {},
     "output_type": "execute_result"
    }
   ],
   "source": [
    "labrador_dogs = dogs_df[\"breed\"] == \"Labrador\"\n",
    "dogs_df[labrador_dogs]"
   ]
  },
  {
   "cell_type": "code",
   "execution_count": 86,
   "id": "93b540a8-15dc-4252-9f57-08f915871c08",
   "metadata": {},
   "outputs": [
    {
     "data": {
      "text/html": [
       "<div>\n",
       "<style scoped>\n",
       "    .dataframe tbody tr th:only-of-type {\n",
       "        vertical-align: middle;\n",
       "    }\n",
       "\n",
       "    .dataframe tbody tr th {\n",
       "        vertical-align: top;\n",
       "    }\n",
       "\n",
       "    .dataframe thead th {\n",
       "        text-align: right;\n",
       "    }\n",
       "</style>\n",
       "<table border=\"1\" class=\"dataframe\">\n",
       "  <thead>\n",
       "    <tr style=\"text-align: right;\">\n",
       "      <th></th>\n",
       "      <th>name</th>\n",
       "      <th>breed</th>\n",
       "      <th>color</th>\n",
       "      <th>height_cm</th>\n",
       "      <th>weight_kg</th>\n",
       "      <th>date_of_birth</th>\n",
       "    </tr>\n",
       "  </thead>\n",
       "  <tbody>\n",
       "    <tr>\n",
       "      <th>0</th>\n",
       "      <td>Bella</td>\n",
       "      <td>Labrador</td>\n",
       "      <td>Brown</td>\n",
       "      <td>56</td>\n",
       "      <td>24</td>\n",
       "      <td>2013-07-01</td>\n",
       "    </tr>\n",
       "    <tr>\n",
       "      <th>2</th>\n",
       "      <td>Lucy</td>\n",
       "      <td>Chow Chow</td>\n",
       "      <td>Brown</td>\n",
       "      <td>46</td>\n",
       "      <td>24</td>\n",
       "      <td>2014-08-25</td>\n",
       "    </tr>\n",
       "    <tr>\n",
       "      <th>3</th>\n",
       "      <td>Cooper</td>\n",
       "      <td>Schnauzer</td>\n",
       "      <td>Gray</td>\n",
       "      <td>49</td>\n",
       "      <td>17</td>\n",
       "      <td>2011-12-11</td>\n",
       "    </tr>\n",
       "  </tbody>\n",
       "</table>\n",
       "</div>"
      ],
      "text/plain": [
       "     name      breed  color  height_cm  weight_kg date_of_birth\n",
       "0   Bella   Labrador  Brown         56         24    2013-07-01\n",
       "2    Lucy  Chow Chow  Brown         46         24    2014-08-25\n",
       "3  Cooper  Schnauzer   Gray         49         17    2011-12-11"
      ]
     },
     "execution_count": 86,
     "metadata": {},
     "output_type": "execute_result"
    }
   ],
   "source": [
    "youngest_dogs = dogs_df[\"date_of_birth\"] < \"2015-01-01\"\n",
    "dogs_df[youngest_dogs]"
   ]
  },
  {
   "cell_type": "code",
   "execution_count": 87,
   "id": "bfb94daf-acb0-4378-9180-fc2a727610c9",
   "metadata": {},
   "outputs": [
    {
     "data": {
      "text/html": [
       "<div>\n",
       "<style scoped>\n",
       "    .dataframe tbody tr th:only-of-type {\n",
       "        vertical-align: middle;\n",
       "    }\n",
       "\n",
       "    .dataframe tbody tr th {\n",
       "        vertical-align: top;\n",
       "    }\n",
       "\n",
       "    .dataframe thead th {\n",
       "        text-align: right;\n",
       "    }\n",
       "</style>\n",
       "<table border=\"1\" class=\"dataframe\">\n",
       "  <thead>\n",
       "    <tr style=\"text-align: right;\">\n",
       "      <th></th>\n",
       "      <th>name</th>\n",
       "      <th>breed</th>\n",
       "      <th>color</th>\n",
       "      <th>height_cm</th>\n",
       "      <th>weight_kg</th>\n",
       "      <th>date_of_birth</th>\n",
       "    </tr>\n",
       "  </thead>\n",
       "  <tbody>\n",
       "    <tr>\n",
       "      <th>0</th>\n",
       "      <td>Bella</td>\n",
       "      <td>Labrador</td>\n",
       "      <td>Brown</td>\n",
       "      <td>56</td>\n",
       "      <td>24</td>\n",
       "      <td>2013-07-01</td>\n",
       "    </tr>\n",
       "  </tbody>\n",
       "</table>\n",
       "</div>"
      ],
      "text/plain": [
       "    name     breed  color  height_cm  weight_kg date_of_birth\n",
       "0  Bella  Labrador  Brown         56         24    2013-07-01"
      ]
     },
     "execution_count": 87,
     "metadata": {},
     "output_type": "execute_result"
    }
   ],
   "source": [
    "is_lab = dogs_df[\"breed\"] == \"Labrador\"\n",
    "is_brown = dogs_df[\"color\"] == \"Brown\"\n",
    "dogs_df[is_lab & is_brown]"
   ]
  },
  {
   "cell_type": "code",
   "execution_count": 88,
   "id": "0fe7ad9f-afde-4de4-98f8-f6680ab9cbd5",
   "metadata": {},
   "outputs": [
    {
     "data": {
      "text/html": [
       "<div>\n",
       "<style scoped>\n",
       "    .dataframe tbody tr th:only-of-type {\n",
       "        vertical-align: middle;\n",
       "    }\n",
       "\n",
       "    .dataframe tbody tr th {\n",
       "        vertical-align: top;\n",
       "    }\n",
       "\n",
       "    .dataframe thead th {\n",
       "        text-align: right;\n",
       "    }\n",
       "</style>\n",
       "<table border=\"1\" class=\"dataframe\">\n",
       "  <thead>\n",
       "    <tr style=\"text-align: right;\">\n",
       "      <th></th>\n",
       "      <th>name</th>\n",
       "      <th>breed</th>\n",
       "      <th>color</th>\n",
       "      <th>height_cm</th>\n",
       "      <th>weight_kg</th>\n",
       "      <th>date_of_birth</th>\n",
       "    </tr>\n",
       "  </thead>\n",
       "  <tbody>\n",
       "    <tr>\n",
       "      <th>0</th>\n",
       "      <td>Bella</td>\n",
       "      <td>Labrador</td>\n",
       "      <td>Brown</td>\n",
       "      <td>56</td>\n",
       "      <td>24</td>\n",
       "      <td>2013-07-01</td>\n",
       "    </tr>\n",
       "    <tr>\n",
       "      <th>1</th>\n",
       "      <td>Charlie</td>\n",
       "      <td>Poodle</td>\n",
       "      <td>Black</td>\n",
       "      <td>43</td>\n",
       "      <td>24</td>\n",
       "      <td>2016-09-16</td>\n",
       "    </tr>\n",
       "    <tr>\n",
       "      <th>2</th>\n",
       "      <td>Lucy</td>\n",
       "      <td>Chow Chow</td>\n",
       "      <td>Brown</td>\n",
       "      <td>46</td>\n",
       "      <td>24</td>\n",
       "      <td>2014-08-25</td>\n",
       "    </tr>\n",
       "    <tr>\n",
       "      <th>4</th>\n",
       "      <td>Max</td>\n",
       "      <td>Labrador</td>\n",
       "      <td>Black</td>\n",
       "      <td>59</td>\n",
       "      <td>29</td>\n",
       "      <td>2017-01-20</td>\n",
       "    </tr>\n",
       "  </tbody>\n",
       "</table>\n",
       "</div>"
      ],
      "text/plain": [
       "      name      breed  color  height_cm  weight_kg date_of_birth\n",
       "0    Bella   Labrador  Brown         56         24    2013-07-01\n",
       "1  Charlie     Poodle  Black         43         24    2016-09-16\n",
       "2     Lucy  Chow Chow  Brown         46         24    2014-08-25\n",
       "4      Max   Labrador  Black         59         29    2017-01-20"
      ]
     },
     "execution_count": 88,
     "metadata": {},
     "output_type": "execute_result"
    }
   ],
   "source": [
    "is_black_or_brown = dogs_df[\"color\"].isin([\"Black\", \"Brown\"])\n",
    "dogs_df[is_black_or_brown]"
   ]
  },
  {
   "cell_type": "markdown",
   "id": "3ac75c82-fb24-4896-a1c3-b963207f9f16",
   "metadata": {
    "jp-MarkdownHeadingCollapsed": true
   },
   "source": [
    "### New Columns"
   ]
  },
  {
   "cell_type": "markdown",
   "id": "7bb25dc8-bb56-4285-bf12-cf9373aa4a2a",
   "metadata": {
    "jp-MarkdownHeadingCollapsed": true
   },
   "source": [
    "#### Add a new Column"
   ]
  },
  {
   "cell_type": "code",
   "execution_count": 90,
   "id": "de979164-dd63-47e0-b8c2-a45b34f526c7",
   "metadata": {},
   "outputs": [
    {
     "data": {
      "text/html": [
       "<div>\n",
       "<style scoped>\n",
       "    .dataframe tbody tr th:only-of-type {\n",
       "        vertical-align: middle;\n",
       "    }\n",
       "\n",
       "    .dataframe tbody tr th {\n",
       "        vertical-align: top;\n",
       "    }\n",
       "\n",
       "    .dataframe thead th {\n",
       "        text-align: right;\n",
       "    }\n",
       "</style>\n",
       "<table border=\"1\" class=\"dataframe\">\n",
       "  <thead>\n",
       "    <tr style=\"text-align: right;\">\n",
       "      <th></th>\n",
       "      <th>name</th>\n",
       "      <th>breed</th>\n",
       "      <th>color</th>\n",
       "      <th>height_cm</th>\n",
       "      <th>weight_kg</th>\n",
       "      <th>date_of_birth</th>\n",
       "      <th>height_m</th>\n",
       "    </tr>\n",
       "  </thead>\n",
       "  <tbody>\n",
       "    <tr>\n",
       "      <th>0</th>\n",
       "      <td>Bella</td>\n",
       "      <td>Labrador</td>\n",
       "      <td>Brown</td>\n",
       "      <td>56</td>\n",
       "      <td>24</td>\n",
       "      <td>2013-07-01</td>\n",
       "      <td>0.56</td>\n",
       "    </tr>\n",
       "    <tr>\n",
       "      <th>1</th>\n",
       "      <td>Charlie</td>\n",
       "      <td>Poodle</td>\n",
       "      <td>Black</td>\n",
       "      <td>43</td>\n",
       "      <td>24</td>\n",
       "      <td>2016-09-16</td>\n",
       "      <td>0.43</td>\n",
       "    </tr>\n",
       "    <tr>\n",
       "      <th>2</th>\n",
       "      <td>Lucy</td>\n",
       "      <td>Chow Chow</td>\n",
       "      <td>Brown</td>\n",
       "      <td>46</td>\n",
       "      <td>24</td>\n",
       "      <td>2014-08-25</td>\n",
       "      <td>0.46</td>\n",
       "    </tr>\n",
       "    <tr>\n",
       "      <th>3</th>\n",
       "      <td>Cooper</td>\n",
       "      <td>Schnauzer</td>\n",
       "      <td>Gray</td>\n",
       "      <td>49</td>\n",
       "      <td>17</td>\n",
       "      <td>2011-12-11</td>\n",
       "      <td>0.49</td>\n",
       "    </tr>\n",
       "    <tr>\n",
       "      <th>4</th>\n",
       "      <td>Max</td>\n",
       "      <td>Labrador</td>\n",
       "      <td>Black</td>\n",
       "      <td>59</td>\n",
       "      <td>29</td>\n",
       "      <td>2017-01-20</td>\n",
       "      <td>0.59</td>\n",
       "    </tr>\n",
       "    <tr>\n",
       "      <th>5</th>\n",
       "      <td>Stella</td>\n",
       "      <td>Chihuahua</td>\n",
       "      <td>Tan</td>\n",
       "      <td>18</td>\n",
       "      <td>2</td>\n",
       "      <td>2015-04-20</td>\n",
       "      <td>0.18</td>\n",
       "    </tr>\n",
       "    <tr>\n",
       "      <th>6</th>\n",
       "      <td>Bernie</td>\n",
       "      <td>St. Bernard</td>\n",
       "      <td>White</td>\n",
       "      <td>77</td>\n",
       "      <td>74</td>\n",
       "      <td>2018-02-27</td>\n",
       "      <td>0.77</td>\n",
       "    </tr>\n",
       "  </tbody>\n",
       "</table>\n",
       "</div>"
      ],
      "text/plain": [
       "      name        breed  color  height_cm  weight_kg date_of_birth  height_m\n",
       "0    Bella     Labrador  Brown         56         24    2013-07-01      0.56\n",
       "1  Charlie       Poodle  Black         43         24    2016-09-16      0.43\n",
       "2     Lucy    Chow Chow  Brown         46         24    2014-08-25      0.46\n",
       "3   Cooper    Schnauzer   Gray         49         17    2011-12-11      0.49\n",
       "4      Max     Labrador  Black         59         29    2017-01-20      0.59\n",
       "5   Stella    Chihuahua    Tan         18          2    2015-04-20      0.18\n",
       "6   Bernie  St. Bernard  White         77         74    2018-02-27      0.77"
      ]
     },
     "execution_count": 90,
     "metadata": {},
     "output_type": "execute_result"
    }
   ],
   "source": [
    "dogs_df[\"height_m\"] = dogs_df[\"height_cm\"] / 100\n",
    "dogs_df"
   ]
  },
  {
   "cell_type": "code",
   "execution_count": 92,
   "id": "a53c3035-6c62-4527-a9e7-60d8cbe8dfd4",
   "metadata": {},
   "outputs": [
    {
     "data": {
      "text/html": [
       "<div>\n",
       "<style scoped>\n",
       "    .dataframe tbody tr th:only-of-type {\n",
       "        vertical-align: middle;\n",
       "    }\n",
       "\n",
       "    .dataframe tbody tr th {\n",
       "        vertical-align: top;\n",
       "    }\n",
       "\n",
       "    .dataframe thead th {\n",
       "        text-align: right;\n",
       "    }\n",
       "</style>\n",
       "<table border=\"1\" class=\"dataframe\">\n",
       "  <thead>\n",
       "    <tr style=\"text-align: right;\">\n",
       "      <th></th>\n",
       "      <th>name</th>\n",
       "      <th>breed</th>\n",
       "      <th>color</th>\n",
       "      <th>height_cm</th>\n",
       "      <th>weight_kg</th>\n",
       "      <th>date_of_birth</th>\n",
       "      <th>height_m</th>\n",
       "      <th>bmi</th>\n",
       "    </tr>\n",
       "  </thead>\n",
       "  <tbody>\n",
       "    <tr>\n",
       "      <th>0</th>\n",
       "      <td>Bella</td>\n",
       "      <td>Labrador</td>\n",
       "      <td>Brown</td>\n",
       "      <td>56</td>\n",
       "      <td>24</td>\n",
       "      <td>2013-07-01</td>\n",
       "      <td>0.56</td>\n",
       "      <td>76.530612</td>\n",
       "    </tr>\n",
       "    <tr>\n",
       "      <th>1</th>\n",
       "      <td>Charlie</td>\n",
       "      <td>Poodle</td>\n",
       "      <td>Black</td>\n",
       "      <td>43</td>\n",
       "      <td>24</td>\n",
       "      <td>2016-09-16</td>\n",
       "      <td>0.43</td>\n",
       "      <td>129.799892</td>\n",
       "    </tr>\n",
       "    <tr>\n",
       "      <th>2</th>\n",
       "      <td>Lucy</td>\n",
       "      <td>Chow Chow</td>\n",
       "      <td>Brown</td>\n",
       "      <td>46</td>\n",
       "      <td>24</td>\n",
       "      <td>2014-08-25</td>\n",
       "      <td>0.46</td>\n",
       "      <td>113.421550</td>\n",
       "    </tr>\n",
       "    <tr>\n",
       "      <th>3</th>\n",
       "      <td>Cooper</td>\n",
       "      <td>Schnauzer</td>\n",
       "      <td>Gray</td>\n",
       "      <td>49</td>\n",
       "      <td>17</td>\n",
       "      <td>2011-12-11</td>\n",
       "      <td>0.49</td>\n",
       "      <td>70.803832</td>\n",
       "    </tr>\n",
       "    <tr>\n",
       "      <th>4</th>\n",
       "      <td>Max</td>\n",
       "      <td>Labrador</td>\n",
       "      <td>Black</td>\n",
       "      <td>59</td>\n",
       "      <td>29</td>\n",
       "      <td>2017-01-20</td>\n",
       "      <td>0.59</td>\n",
       "      <td>83.309394</td>\n",
       "    </tr>\n",
       "    <tr>\n",
       "      <th>5</th>\n",
       "      <td>Stella</td>\n",
       "      <td>Chihuahua</td>\n",
       "      <td>Tan</td>\n",
       "      <td>18</td>\n",
       "      <td>2</td>\n",
       "      <td>2015-04-20</td>\n",
       "      <td>0.18</td>\n",
       "      <td>61.728395</td>\n",
       "    </tr>\n",
       "    <tr>\n",
       "      <th>6</th>\n",
       "      <td>Bernie</td>\n",
       "      <td>St. Bernard</td>\n",
       "      <td>White</td>\n",
       "      <td>77</td>\n",
       "      <td>74</td>\n",
       "      <td>2018-02-27</td>\n",
       "      <td>0.77</td>\n",
       "      <td>124.810255</td>\n",
       "    </tr>\n",
       "  </tbody>\n",
       "</table>\n",
       "</div>"
      ],
      "text/plain": [
       "      name        breed  color  height_cm  weight_kg date_of_birth  height_m  \\\n",
       "0    Bella     Labrador  Brown         56         24    2013-07-01      0.56   \n",
       "1  Charlie       Poodle  Black         43         24    2016-09-16      0.43   \n",
       "2     Lucy    Chow Chow  Brown         46         24    2014-08-25      0.46   \n",
       "3   Cooper    Schnauzer   Gray         49         17    2011-12-11      0.49   \n",
       "4      Max     Labrador  Black         59         29    2017-01-20      0.59   \n",
       "5   Stella    Chihuahua    Tan         18          2    2015-04-20      0.18   \n",
       "6   Bernie  St. Bernard  White         77         74    2018-02-27      0.77   \n",
       "\n",
       "          bmi  \n",
       "0   76.530612  \n",
       "1  129.799892  \n",
       "2  113.421550  \n",
       "3   70.803832  \n",
       "4   83.309394  \n",
       "5   61.728395  \n",
       "6  124.810255  "
      ]
     },
     "execution_count": 92,
     "metadata": {},
     "output_type": "execute_result"
    }
   ],
   "source": [
    "dogs_df[\"bmi\"] = dogs[\"weight_kg\"] / dogs_df[\"height_m\"] ** 2\n",
    "dogs_df"
   ]
  },
  {
   "cell_type": "markdown",
   "id": "0265409e-b063-4573-b60e-da8bf08c9533",
   "metadata": {
    "jp-MarkdownHeadingCollapsed": true
   },
   "source": [
    "### Multiple Manipulations - The Real Pandas Power"
   ]
  },
  {
   "cell_type": "code",
   "execution_count": 95,
   "id": "2f610ae6-7ebe-4983-b5fc-b28e2e7c8035",
   "metadata": {},
   "outputs": [
    {
     "data": {
      "text/html": [
       "<div>\n",
       "<style scoped>\n",
       "    .dataframe tbody tr th:only-of-type {\n",
       "        vertical-align: middle;\n",
       "    }\n",
       "\n",
       "    .dataframe tbody tr th {\n",
       "        vertical-align: top;\n",
       "    }\n",
       "\n",
       "    .dataframe thead th {\n",
       "        text-align: right;\n",
       "    }\n",
       "</style>\n",
       "<table border=\"1\" class=\"dataframe\">\n",
       "  <thead>\n",
       "    <tr style=\"text-align: right;\">\n",
       "      <th></th>\n",
       "      <th>name</th>\n",
       "      <th>height_cm</th>\n",
       "      <th>bmi</th>\n",
       "    </tr>\n",
       "  </thead>\n",
       "  <tbody>\n",
       "    <tr>\n",
       "      <th>4</th>\n",
       "      <td>Max</td>\n",
       "      <td>59</td>\n",
       "      <td>83.309394</td>\n",
       "    </tr>\n",
       "    <tr>\n",
       "      <th>0</th>\n",
       "      <td>Bella</td>\n",
       "      <td>56</td>\n",
       "      <td>76.530612</td>\n",
       "    </tr>\n",
       "    <tr>\n",
       "      <th>3</th>\n",
       "      <td>Cooper</td>\n",
       "      <td>49</td>\n",
       "      <td>70.803832</td>\n",
       "    </tr>\n",
       "    <tr>\n",
       "      <th>5</th>\n",
       "      <td>Stella</td>\n",
       "      <td>18</td>\n",
       "      <td>61.728395</td>\n",
       "    </tr>\n",
       "  </tbody>\n",
       "</table>\n",
       "</div>"
      ],
      "text/plain": [
       "     name  height_cm        bmi\n",
       "4     Max         59  83.309394\n",
       "0   Bella         56  76.530612\n",
       "3  Cooper         49  70.803832\n",
       "5  Stella         18  61.728395"
      ]
     },
     "execution_count": 95,
     "metadata": {},
     "output_type": "execute_result"
    }
   ],
   "source": [
    "low_dogs_bmi = dogs_df[\"bmi\"] < 100\n",
    "bmi_lt_100 = dogs_df[low_dogs_bmi]\n",
    "bmi_lt_100_height = bmi_lt_100.sort_values(\"height_cm\", ascending=False)\n",
    "bmi_lt_100_height[[\"name\", \"height_cm\", \"bmi\"]] "
   ]
  },
  {
   "cell_type": "code",
   "execution_count": null,
   "id": "d2ddb962-761d-4c5e-ac82-9ab386bce226",
   "metadata": {},
   "outputs": [],
   "source": []
  }
 ],
 "metadata": {
  "kernelspec": {
   "display_name": "Python 3 (ipykernel)",
   "language": "python",
   "name": "python3"
  },
  "language_info": {
   "codemirror_mode": {
    "name": "ipython",
    "version": 3
   },
   "file_extension": ".py",
   "mimetype": "text/x-python",
   "name": "python",
   "nbconvert_exporter": "python",
   "pygments_lexer": "ipython3",
   "version": "3.10.6"
  }
 },
 "nbformat": 4,
 "nbformat_minor": 5
}
