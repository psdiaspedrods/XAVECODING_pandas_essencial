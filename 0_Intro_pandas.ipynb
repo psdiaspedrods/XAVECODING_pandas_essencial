{
 "cells": [
  {
   "cell_type": "markdown",
   "id": "dc759fbe-b2a5-4d25-b042-43bfef59d6d6",
   "metadata": {},
   "source": [
    "# Conceitos Básicos"
   ]
  },
  {
   "cell_type": "markdown",
   "id": "82485762-4da0-430c-b3d0-5982f229e600",
   "metadata": {},
   "source": [
    "## Pandas"
   ]
  },
  {
   "cell_type": "markdown",
   "id": "fe304d82-5592-4efc-9f38-006b13080ea6",
   "metadata": {},
   "source": [
    "Pandas é uma biblioteca para manipular dados estruturados. Ela foi construida em cima da NumPy e Matplotlib."
   ]
  },
  {
   "cell_type": "markdown",
   "id": "f7afbbd2-7e92-4686-94d8-38d1a851bc1c",
   "metadata": {},
   "source": [
    "## Elementos e Termos"
   ]
  },
  {
   "cell_type": "markdown",
   "id": "8de93119-e7cd-4918-b4aa-43908abbdc4e",
   "metadata": {},
   "source": [
    "### DataFrame"
   ]
  },
  {
   "cell_type": "markdown",
   "id": "3ad96cf1-9503-4219-a66e-6e95a8590ee2",
   "metadata": {},
   "source": [
    "Dentro do pandas, o nome dado ao objeto que representa a tabela é DataFrame (frame/moldura de dados)\n",
    "- Os dados podem vir de diversas fontes como: .csv, .xlsx, .txt ou criados no código a partir de um dictionary (menos comum, ja que normalmente o dado é coletado externamente)"
   ]
  },
  {
   "cell_type": "markdown",
   "id": "ecc982a2-e110-4147-ada1-3e798ec8f0d0",
   "metadata": {},
   "source": [
    "<img src='images/dataFrame.png' width='1100'/>"
   ]
  },
  {
   "cell_type": "markdown",
   "id": "7a42e398-1134-476a-a456-ab729ec9bdf9",
   "metadata": {},
   "source": [
    "### Rows"
   ]
  },
  {
   "cell_type": "markdown",
   "id": "48627119-6ff8-4f2d-9313-3cc650bdf228",
   "metadata": {},
   "source": [
    "Row é literalmente uma linha do DataFrame\n",
    "- Essa representa um registro/observação do conjunto de dados representado na tabela\n",
    "- isoladamente, ela representa uma aferição e/ou um elemento entre todos os elementos da tabela\n",
    "- Também conhecido como registro, observação e/ou amostra*"
   ]
  },
  {
   "cell_type": "markdown",
   "id": "8ee9554b-d030-43f5-ab21-4f44d574ad6c",
   "metadata": {
    "jp-MarkdownHeadingCollapsed": true
   },
   "source": [
    "<img src=\"images/row-registro.png\" width=\"1100\"/>"
   ]
  },
  {
   "cell_type": "markdown",
   "id": "0647d927-dc57-40f6-a4e9-5d05c4b506b9",
   "metadata": {},
   "source": [
    "### Columns"
   ]
  },
  {
   "cell_type": "markdown",
   "id": "2df64f99-6b00-4994-8fba-99d8d232ef0a",
   "metadata": {},
   "source": [
    "As colunas são responsáveis por dar caracteristicas e sentido par as linhas\n",
    "- Uma linha sem um significado não agrega nenhum valor\n",
    "- Colunas também são conhecidas como caracteristica/feature"
   ]
  },
  {
   "cell_type": "markdown",
   "id": "f33b123f-a8b8-4eb4-9ee5-47d87a191f20",
   "metadata": {},
   "source": [
    "<img src=\"images/column-feature.png\" width=\"1100\"/>"
   ]
  },
  {
   "cell_type": "markdown",
   "id": "2ef620e4-0a04-4a3c-8f9c-9e14ba2bc110",
   "metadata": {},
   "source": [
    "### Index"
   ]
  },
  {
   "cell_type": "markdown",
   "id": "6cfa1b6e-3b5a-4b0c-8316-57d0a296c43d",
   "metadata": {},
   "source": [
    "Todos os DataFrames são indexados\n",
    "- No geral os index são valores numéricos (0 à n-1) mas também podem ser texto"
   ]
  },
  {
   "cell_type": "markdown",
   "id": "ae6db980-f8fb-463b-b6f9-9b593df6d99d",
   "metadata": {},
   "source": [
    "<img src=\"images/index.png\" width=\"1100\"/>"
   ]
  },
  {
   "cell_type": "markdown",
   "id": "98d70ccc-6726-47a9-b3bc-a65e75cf7e16",
   "metadata": {},
   "source": [
    "### Series"
   ]
  },
  {
   "cell_type": "markdown",
   "id": "1d362ed9-a239-4393-96a2-2b36d7d97003",
   "metadata": {},
   "source": [
    "Series em pandas é uma estrutura unidimensional\n",
    "- Ela pode representar uma linha ou uma coluna do DataFrame"
   ]
  },
  {
   "cell_type": "markdown",
   "id": "f85cf97d-9476-45c4-bbb1-183a7d5ac772",
   "metadata": {},
   "source": [
    "<img src=\"images/series.png\" width=\"1250\"/>"
   ]
  },
  {
   "cell_type": "markdown",
   "id": "326053c2-0a13-4655-8a80-6311d7d32e03",
   "metadata": {},
   "source": [
    "### Variaveis Independentes e Dependentes"
   ]
  },
  {
   "cell_type": "markdown",
   "id": "179bdc8e-9489-4f9a-802f-80869b1050e5",
   "metadata": {},
   "source": [
    "Existem valores que por si só (individualmente) ja fazem sentido, como por exemplo:\n",
    "- Mês 5, isoladamente sabemos que é o mes de maio\n",
    "- Essas variáveis são conhecidas como variáveis independentes\n",
    "\n",
    "Agora existem valores que são resultados de outras variáveis\n",
    "- Conhecidas como variáveis dependentes\n",
    "- Também são chamada de output, target ou resposta\n",
    "- Quando outro valor tem impacto direto no seu valor"
   ]
  },
  {
   "cell_type": "markdown",
   "id": "022f9673-601f-495c-8a01-7d6183b03e84",
   "metadata": {},
   "source": [
    "<img src=\"images/variaveis-independentes.png\" width=\"1100\"/>"
   ]
  }
 ],
 "metadata": {
  "kernelspec": {
   "display_name": "Python 3 (ipykernel)",
   "language": "python",
   "name": "python3"
  },
  "language_info": {
   "codemirror_mode": {
    "name": "ipython",
    "version": 3
   },
   "file_extension": ".py",
   "mimetype": "text/x-python",
   "name": "python",
   "nbconvert_exporter": "python",
   "pygments_lexer": "ipython3",
   "version": "3.10.6"
  }
 },
 "nbformat": 4,
 "nbformat_minor": 5
}
